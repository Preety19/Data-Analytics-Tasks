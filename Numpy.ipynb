{
 "cells": [
  {
   "cell_type": "markdown",
   "metadata": {},
   "source": [
    "# Numpy - Numeric Python"
   ]
  },
  {
   "cell_type": "markdown",
   "metadata": {},
   "source": [
    "#### The NumPy library is the core library for scientific computing in Python. It provides a high-performance multidimensional array object, and tools for working with these arrays"
   ]
  },
  {
   "cell_type": "code",
   "execution_count": 1,
   "metadata": {},
   "outputs": [
    {
     "ename": "ModuleNotFoundError",
     "evalue": "No module named 'numpy'",
     "output_type": "error",
     "traceback": [
      "\u001b[0;31m---------------------------------------------------------------------------\u001b[0m",
      "\u001b[0;31mModuleNotFoundError\u001b[0m                       Traceback (most recent call last)",
      "\u001b[0;32m<ipython-input-1-0aa0b027fcb6>\u001b[0m in \u001b[0;36m<module>\u001b[0;34m\u001b[0m\n\u001b[0;32m----> 1\u001b[0;31m \u001b[0;32mimport\u001b[0m \u001b[0mnumpy\u001b[0m \u001b[0;32mas\u001b[0m \u001b[0mnp\u001b[0m\u001b[0;34m\u001b[0m\u001b[0;34m\u001b[0m\u001b[0m\n\u001b[0m",
      "\u001b[0;31mModuleNotFoundError\u001b[0m: No module named 'numpy'"
     ]
    }
   ],
   "source": [
    "import numpy as np"
   ]
  },
  {
   "cell_type": "code",
   "execution_count": null,
   "metadata": {},
   "outputs": [],
   "source": [
    "!pip install pandas"
   ]
  },
  {
   "cell_type": "markdown",
   "metadata": {},
   "source": [
    "1D, 2D, 3D,...."
   ]
  },
  {
   "cell_type": "code",
   "execution_count": 2,
   "metadata": {},
   "outputs": [
    {
     "data": {
      "text/plain": [
       "array([1, 2, 3, 4, 5, 6, 7])"
      ]
     },
     "execution_count": 2,
     "metadata": {},
     "output_type": "execute_result"
    }
   ],
   "source": [
    "l1=[1,2,3,4,5,6,7]  #1D array\n",
    "n1=np.array(l1)\n",
    "n1"
   ]
  },
  {
   "cell_type": "code",
   "execution_count": 3,
   "metadata": {},
   "outputs": [
    {
     "name": "stderr",
     "output_type": "stream",
     "text": [
      "<ipython-input-3-8726eeed7b25>:1: VisibleDeprecationWarning: Creating an ndarray from ragged nested sequences (which is a list-or-tuple of lists-or-tuples-or ndarrays with different lengths or shapes) is deprecated. If you meant to do this, you must specify 'dtype=object' when creating the ndarray.\n",
      "  n2 = np.array([[1,2,3,4,5,6,7], [4,2,3,1]])\n"
     ]
    },
    {
     "data": {
      "text/plain": [
       "array([list([1, 2, 3, 4, 5, 6, 7]), list([4, 2, 3, 1])], dtype=object)"
      ]
     },
     "execution_count": 3,
     "metadata": {},
     "output_type": "execute_result"
    }
   ],
   "source": [
    "n2 = np.array([[1,2,3,4,5,6,7], [4,2,3,1]])\n",
    "n2"
   ]
  },
  {
   "cell_type": "code",
   "execution_count": 6,
   "metadata": {},
   "outputs": [],
   "source": [
    "a = np.array([1,2,3])\n",
    "b = np.array([(1.5,2,3), (4,5,6)], dtype = float)\n",
    "c = np.array([[(1.5,2,3), (4,5,6)], [(3,2,1), (4,5,6)]],\n",
    " dtype = float)"
   ]
  },
  {
   "cell_type": "code",
   "execution_count": 7,
   "metadata": {},
   "outputs": [
    {
     "data": {
      "text/plain": [
       "array([1, 2, 3])"
      ]
     },
     "execution_count": 7,
     "metadata": {},
     "output_type": "execute_result"
    }
   ],
   "source": [
    "a"
   ]
  },
  {
   "cell_type": "code",
   "execution_count": 8,
   "metadata": {},
   "outputs": [
    {
     "data": {
      "text/plain": [
       "array([[1.5, 2. , 3. ],\n",
       "       [4. , 5. , 6. ]])"
      ]
     },
     "execution_count": 8,
     "metadata": {},
     "output_type": "execute_result"
    }
   ],
   "source": [
    "b"
   ]
  },
  {
   "cell_type": "code",
   "execution_count": 9,
   "metadata": {},
   "outputs": [
    {
     "data": {
      "text/plain": [
       "array([[[1.5, 2. , 3. ],\n",
       "        [4. , 5. , 6. ]],\n",
       "\n",
       "       [[3. , 2. , 1. ],\n",
       "        [4. , 5. , 6. ]]])"
      ]
     },
     "execution_count": 9,
     "metadata": {},
     "output_type": "execute_result"
    }
   ],
   "source": [
    "c"
   ]
  },
  {
   "cell_type": "code",
   "execution_count": 16,
   "metadata": {},
   "outputs": [
    {
     "data": {
      "text/plain": [
       "array([[0., 0., 0., 0.],\n",
       "       [0., 0., 0., 0.],\n",
       "       [0., 0., 0., 0.]])"
      ]
     },
     "execution_count": 16,
     "metadata": {},
     "output_type": "execute_result"
    }
   ],
   "source": [
    "#array of zeros\n",
    "#np.zeros((no. of rows,no. of columns))\n",
    "np.zeros((3,4))"
   ]
  },
  {
   "cell_type": "code",
   "execution_count": 17,
   "metadata": {},
   "outputs": [
    {
     "data": {
      "text/plain": [
       "array([[1., 1., 1., 1., 1.],\n",
       "       [1., 1., 1., 1., 1.]])"
      ]
     },
     "execution_count": 17,
     "metadata": {},
     "output_type": "execute_result"
    }
   ],
   "source": [
    "#array of ones\n",
    "\n",
    "np.ones((2,5))"
   ]
  },
  {
   "cell_type": "code",
   "execution_count": 15,
   "metadata": {},
   "outputs": [
    {
     "data": {
      "text/plain": [
       "array([ 7, 10, 13, 16, 19, 22, 25, 28, 31, 34, 37, 40, 43, 46])"
      ]
     },
     "execution_count": 15,
     "metadata": {},
     "output_type": "execute_result"
    }
   ],
   "source": [
    "#array of evenly spaced values(stepwise)\n",
    "#np.arange(start,end,difference)\n",
    "np.arange(7,48,3)"
   ]
  },
  {
   "cell_type": "code",
   "execution_count": 23,
   "metadata": {},
   "outputs": [
    {
     "data": {
      "text/plain": [
       "array([1.        , 1.27777778, 1.55555556, 1.83333333, 2.11111111,\n",
       "       2.38888889, 2.66666667, 2.94444444, 3.22222222, 3.5       ])"
      ]
     },
     "execution_count": 23,
     "metadata": {},
     "output_type": "execute_result"
    }
   ],
   "source": [
    "#creates an array of evenly spaced values\n",
    "#np.linspace(start,end,total no. of numbers required)\n",
    "np.linspace(1,3.5,10)"
   ]
  },
  {
   "cell_type": "code",
   "execution_count": 28,
   "metadata": {},
   "outputs": [
    {
     "data": {
      "text/plain": [
       "array([[7, 7, 7, 7, 7],\n",
       "       [7, 7, 7, 7, 7],\n",
       "       [7, 7, 7, 7, 7]])"
      ]
     },
     "execution_count": 28,
     "metadata": {},
     "output_type": "execute_result"
    }
   ],
   "source": [
    "#creates a constant array\n",
    "#np.full((no. of rows, no. of cols), the required number)\n",
    "np.full((3,5),7)"
   ]
  },
  {
   "cell_type": "code",
   "execution_count": 30,
   "metadata": {},
   "outputs": [
    {
     "data": {
      "text/plain": [
       "array([[1., 0., 0.],\n",
       "       [0., 1., 0.],\n",
       "       [0., 0., 1.]])"
      ]
     },
     "execution_count": 30,
     "metadata": {},
     "output_type": "execute_result"
    }
   ],
   "source": [
    "#creates a AXA identity matrix\n",
    "#np.eye(x)\n",
    "np.eye(3)"
   ]
  },
  {
   "cell_type": "code",
   "execution_count": 31,
   "metadata": {},
   "outputs": [
    {
     "data": {
      "text/plain": [
       "array([[0.20547885, 0.06931517],\n",
       "       [0.36808898, 0.22375904],\n",
       "       [0.19750842, 0.59823003]])"
      ]
     },
     "execution_count": 31,
     "metadata": {},
     "output_type": "execute_result"
    }
   ],
   "source": [
    "#creates an array of random numbers\n",
    "np.random.random((3,2))"
   ]
  },
  {
   "cell_type": "code",
   "execution_count": 36,
   "metadata": {},
   "outputs": [
    {
     "data": {
      "text/plain": [
       "array([[0.20547885, 0.06931517, 0.36808898],\n",
       "       [0.22375904, 0.19750842, 0.59823003]])"
      ]
     },
     "execution_count": 36,
     "metadata": {},
     "output_type": "execute_result"
    }
   ],
   "source": [
    "np.empty((2,3))"
   ]
  },
  {
   "cell_type": "markdown",
   "metadata": {},
   "source": [
    "### Data types"
   ]
  },
  {
   "cell_type": "markdown",
   "metadata": {},
   "source": [
    "np.int64                 Signed 64-bit integer types\n",
    "np.float32               Standard double-precision floating point\n",
    "np.complex               Complex numbers represented by 128 floats\n",
    "np.bool                  Boolean type storing TRUE and FALSE values\n",
    "np.object                Python object type\n",
    "np.string_               Fixed-length string type\n",
    "np.unicode_              Fixed-length unicode type"
   ]
  },
  {
   "cell_type": "markdown",
   "metadata": {},
   "source": [
    "###  Inspecting array"
   ]
  },
  {
   "cell_type": "markdown",
   "metadata": {},
   "source": [
    "a.shape                  Array dimensions\n",
    "len(a)                   Length of array\n",
    "b.ndim                   Number of array dimensions\n",
    "e.size                   Number of array elements\n",
    "b.dtype                  Data type of array elements\n",
    "b.dtype.name             Name of data type\n",
    "b.astype(int)            sConvert an array to a different type\n"
   ]
  },
  {
   "cell_type": "code",
   "execution_count": 38,
   "metadata": {},
   "outputs": [
    {
     "name": "stdout",
     "output_type": "stream",
     "text": [
      "Data-type of the array's elements.\n",
      "\n",
      "Parameters\n",
      "----------\n",
      "None\n",
      "\n",
      "Returns\n",
      "-------\n",
      "d : numpy dtype object\n",
      "\n",
      "See Also\n",
      "--------\n",
      "numpy.dtype\n",
      "\n",
      "Examples\n",
      "--------\n",
      ">>> x\n",
      "array([[0, 1],\n",
      "       [2, 3]])\n",
      ">>> x.dtype\n",
      "dtype('int32')\n",
      ">>> type(x.dtype)\n",
      "<type 'numpy.dtype'>\n"
     ]
    }
   ],
   "source": [
    "##Asking for help\n",
    "np.info(np.ndarray.dtype)"
   ]
  },
  {
   "cell_type": "markdown",
   "metadata": {},
   "source": [
    "### Arithmetic Operations"
   ]
  },
  {
   "cell_type": "code",
   "execution_count": 3,
   "metadata": {},
   "outputs": [],
   "source": [
    "a = np.array((1,2,3,4))\n",
    "b = np.array([(7,2,1,3),(3,1,2,4)])"
   ]
  },
  {
   "cell_type": "code",
   "execution_count": 8,
   "metadata": {},
   "outputs": [
    {
     "data": {
      "text/plain": [
       "array([1, 2, 3, 4])"
      ]
     },
     "execution_count": 8,
     "metadata": {},
     "output_type": "execute_result"
    }
   ],
   "source": [
    "a"
   ]
  },
  {
   "cell_type": "code",
   "execution_count": 9,
   "metadata": {},
   "outputs": [
    {
     "data": {
      "text/plain": [
       "array([[7, 2, 1, 3],\n",
       "       [3, 1, 2, 4]])"
      ]
     },
     "execution_count": 9,
     "metadata": {},
     "output_type": "execute_result"
    }
   ],
   "source": [
    "b"
   ]
  },
  {
   "cell_type": "code",
   "execution_count": 4,
   "metadata": {},
   "outputs": [
    {
     "data": {
      "text/plain": [
       "array([[-6,  0,  2,  1],\n",
       "       [-2,  1,  1,  0]])"
      ]
     },
     "execution_count": 4,
     "metadata": {},
     "output_type": "execute_result"
    }
   ],
   "source": [
    "c = a-b\n",
    "c"
   ]
  },
  {
   "cell_type": "code",
   "execution_count": 5,
   "metadata": {},
   "outputs": [
    {
     "data": {
      "text/plain": [
       "array([[8, 4, 4, 7],\n",
       "       [4, 3, 5, 8]])"
      ]
     },
     "execution_count": 5,
     "metadata": {},
     "output_type": "execute_result"
    }
   ],
   "source": [
    "c=a+b\n",
    "c"
   ]
  },
  {
   "cell_type": "code",
   "execution_count": 6,
   "metadata": {},
   "outputs": [
    {
     "data": {
      "text/plain": [
       "array([[ 7,  4,  3, 12],\n",
       "       [ 3,  2,  6, 16]])"
      ]
     },
     "execution_count": 6,
     "metadata": {},
     "output_type": "execute_result"
    }
   ],
   "source": [
    "c= a*b\n",
    "c"
   ]
  },
  {
   "cell_type": "code",
   "execution_count": 7,
   "metadata": {},
   "outputs": [
    {
     "data": {
      "text/plain": [
       "array([[0.14285714, 1.        , 3.        , 1.33333333],\n",
       "       [0.33333333, 2.        , 1.5       , 1.        ]])"
      ]
     },
     "execution_count": 7,
     "metadata": {},
     "output_type": "execute_result"
    }
   ],
   "source": [
    "c = a/b\n",
    "c"
   ]
  },
  {
   "cell_type": "code",
   "execution_count": 48,
   "metadata": {},
   "outputs": [
    {
     "data": {
      "text/plain": [
       "array([1, 2, 3, 4])"
      ]
     },
     "execution_count": 48,
     "metadata": {},
     "output_type": "execute_result"
    }
   ],
   "source": [
    "c = b/a\n",
    "a"
   ]
  },
  {
   "cell_type": "code",
   "execution_count": 50,
   "metadata": {},
   "outputs": [
    {
     "data": {
      "text/plain": [
       "array([[ 7,  4,  3, 12],\n",
       "       [ 3,  2,  6, 16]])"
      ]
     },
     "execution_count": 50,
     "metadata": {},
     "output_type": "execute_result"
    }
   ],
   "source": [
    "c = b*a\n",
    "c"
   ]
  },
  {
   "cell_type": "code",
   "execution_count": 51,
   "metadata": {},
   "outputs": [
    {
     "data": {
      "text/plain": [
       "array([[0.14285714, 1.        , 3.        , 1.33333333],\n",
       "       [0.33333333, 2.        , 1.5       , 1.        ]])"
      ]
     },
     "execution_count": 51,
     "metadata": {},
     "output_type": "execute_result"
    }
   ],
   "source": [
    "np.add(a,b)\n",
    "np.subtract(a,b)\n",
    "np.multiply(a,b)\n",
    "np.divide(a,b)"
   ]
  },
  {
   "cell_type": "code",
   "execution_count": 56,
   "metadata": {},
   "outputs": [
    {
     "name": "stdout",
     "output_type": "stream",
     "text": [
      "#Exponentiation\n",
      "[[1096.63315843    7.3890561     2.71828183   20.08553692]\n",
      " [  20.08553692    2.71828183    7.3890561    54.59815003]]\n",
      "#Squareroot\n",
      "[[2.64575131 1.41421356 1.         1.73205081]\n",
      " [1.73205081 1.         1.41421356 2.        ]]\n",
      "#Sines\n",
      "[ 0.84147098  0.90929743  0.14112001 -0.7568025 ]\n",
      "#Cosines\n",
      "[[ 0.75390225 -0.41614684  0.54030231 -0.9899925 ]\n",
      " [-0.9899925   0.54030231 -0.41614684 -0.65364362]]\n",
      "#Natural log\n",
      "[0.         0.69314718 1.09861229 1.38629436]\n",
      "#Dot product\n"
     ]
    },
    {
     "ename": "ValueError",
     "evalue": "shapes (2,4) and (2,4) not aligned: 4 (dim 1) != 2 (dim 0)",
     "output_type": "error",
     "traceback": [
      "\u001b[1;31m---------------------------------------------------------------------------\u001b[0m",
      "\u001b[1;31mValueError\u001b[0m                                Traceback (most recent call last)",
      "\u001b[1;32m<ipython-input-56-da9ba9c52309>\u001b[0m in \u001b[0;36m<module>\u001b[1;34m\u001b[0m\n\u001b[0;32m     10\u001b[0m \u001b[0mprint\u001b[0m\u001b[1;33m(\u001b[0m\u001b[0mnp\u001b[0m\u001b[1;33m.\u001b[0m\u001b[0mlog\u001b[0m\u001b[1;33m(\u001b[0m\u001b[0ma\u001b[0m\u001b[1;33m)\u001b[0m\u001b[1;33m)\u001b[0m                  \u001b[1;31m#Element-wise natural logarithm\u001b[0m\u001b[1;33m\u001b[0m\u001b[1;33m\u001b[0m\u001b[0m\n\u001b[0;32m     11\u001b[0m \u001b[0mprint\u001b[0m\u001b[1;33m(\u001b[0m\u001b[1;34m'#Dot product'\u001b[0m\u001b[1;33m)\u001b[0m\u001b[1;33m\u001b[0m\u001b[1;33m\u001b[0m\u001b[0m\n\u001b[1;32m---> 12\u001b[1;33m \u001b[0mprint\u001b[0m\u001b[1;33m(\u001b[0m\u001b[0mb\u001b[0m\u001b[1;33m.\u001b[0m\u001b[0mdot\u001b[0m\u001b[1;33m(\u001b[0m\u001b[0mc\u001b[0m\u001b[1;33m)\u001b[0m\u001b[1;33m)\u001b[0m                   \u001b[1;31m#Dot product\u001b[0m\u001b[1;33m\u001b[0m\u001b[1;33m\u001b[0m\u001b[0m\n\u001b[0m",
      "\u001b[1;31mValueError\u001b[0m: shapes (2,4) and (2,4) not aligned: 4 (dim 1) != 2 (dim 0)"
     ]
    }
   ],
   "source": [
    "print('#Exponentiation')\n",
    "print(np.exp(b))                  #Exponentiation\n",
    "print('#Squareroot')\n",
    "print(np.sqrt(b))                 #Square root\n",
    "print('#Sines')\n",
    "print(np.sin(a))                  #Print sines of an array\n",
    "print('#Cosines')\n",
    "print(np.cos(b))                  #Element-wise cosine\n",
    "print('#Natural log')\n",
    "print(np.log(a))                  #Element-wise natural logarithm\n",
    "print('#Dot product')\n",
    "print(b.dot(c))                   #Dot product"
   ]
  },
  {
   "cell_type": "markdown",
   "metadata": {},
   "source": [
    "### Comparison"
   ]
  },
  {
   "cell_type": "code",
   "execution_count": 58,
   "metadata": {},
   "outputs": [
    {
     "data": {
      "text/plain": [
       "False"
      ]
     },
     "execution_count": 58,
     "metadata": {},
     "output_type": "execute_result"
    }
   ],
   "source": [
    "a == b                 #Element-wise comparison\n",
    "a < 2                  #Element-wise comparison\n",
    "np.array_equal(a, b)   #Array-wise comparison"
   ]
  },
  {
   "cell_type": "markdown",
   "metadata": {},
   "source": [
    "### Aggregate functions"
   ]
  },
  {
   "cell_type": "code",
   "execution_count": 65,
   "metadata": {},
   "outputs": [
    {
     "data": {
      "text/plain": [
       "1.8328597873268975"
      ]
     },
     "execution_count": 65,
     "metadata": {},
     "output_type": "execute_result"
    }
   ],
   "source": [
    "a.sum()                #Array-wise sum\n",
    "a.min()                #Array-wise minimum value\n",
    "b.max(axis=0)          #Maximum value of an array row\n",
    "b.cumsum(axis=1)       #Cumulative sum of the elements\n",
    "a.mean()               #Mean\n",
    "np.mean(a)\n",
    "np.median(b)           #Median\n",
    "np.corrcoef(b)         #Correlation coefficient\n",
    "np.std(b)              #Standard deviation"
   ]
  },
  {
   "cell_type": "markdown",
   "metadata": {},
   "source": [
    "### Copying Arrays"
   ]
  },
  {
   "cell_type": "code",
   "execution_count": 66,
   "metadata": {},
   "outputs": [
    {
     "data": {
      "text/plain": [
       "array([1, 2, 3, 4])"
      ]
     },
     "execution_count": 66,
     "metadata": {},
     "output_type": "execute_result"
    }
   ],
   "source": [
    "h = a.view()          #Create a view of the array with the same data\n",
    "np.copy(a)            #Create a copy of the array\n",
    "h = a.copy()          #Create a deep copy of the array\n",
    "h"
   ]
  },
  {
   "cell_type": "markdown",
   "metadata": {},
   "source": [
    "### Sorting Arrays"
   ]
  },
  {
   "cell_type": "code",
   "execution_count": 67,
   "metadata": {},
   "outputs": [],
   "source": [
    "a.sort()              #Sort an array\n",
    "c.sort(axis=0)        #Sort the elements of an array's axis"
   ]
  },
  {
   "cell_type": "markdown",
   "metadata": {},
   "source": [
    "### Array Manipulation"
   ]
  },
  {
   "cell_type": "markdown",
   "metadata": {},
   "source": [
    "#Transposing Array\n",
    "i = np.transpose(b)    \n",
    "i.T \n",
    "\n",
    "\n",
    "#Changing Array Shape\n",
    "b.ravel()                              Flatten the array\n",
    "g.reshape(3,-2)                        Reshape, but don’t change data\n",
    "\n",
    "\n",
    "#Adding/Removing Elements\n",
    "h.resize((2,6))                        Return a new array with shape (2,6)\n",
    "np.append(h,g)                         Append items to an array\n",
    "np.insert(a, 1, 5)                     Insert items in an array\n",
    "np.delete(a,[1])                       Delete items from an array\n",
    "\n",
    "\n",
    "#Combining Arrays\n",
    "np.concatenate((a,d),axis=0)           Concatenate arrays\n",
    "np.vstack((a,b))                       Stack arrays vertically (row-wise)\n",
    "np.r_[e,f]                             Stack arrays vertically (row-wise)\n",
    "np.hstack((e,f))                       Stack arrays horizontally (column-wise)\n",
    "np.column_stack((a,d))                 Create stacked column-wise arrays\n",
    "np.c_[a,d]                             Create stacked column-wise arrays\n",
    "\n",
    "\n",
    "#Splitting Arrays\n",
    "np.hsplit(a,3)                         Split the array horizontally at the 3rd\n",
    "np.vsplit(c,2)                         Split the array vertically at the 2nd index\n"
   ]
  },
  {
   "cell_type": "markdown",
   "metadata": {},
   "source": [
    "### Slicing, Subsetting"
   ]
  },
  {
   "cell_type": "markdown",
   "metadata": {},
   "source": [
    "#Subsetting\n",
    "a[2]                         Select the element at the 2nd index 3\n",
    "b[1,2]                       Select the element at row 1 column 2\n",
    "\n",
    "\n",
    "#Slicing\n",
    "a[0:2]                       Select items at index 0 and 1\n",
    "b[0:2,1]                     Select items at rows 0 and 1 in column 1\n",
    "\n",
    "\n",
    "b[:1]                        Select all items at row 0\n",
    "c[1,...]                     Same as [1,:,:]\n",
    "a[ : :-1]                    Reversed array a"
   ]
  }
 ],
 "metadata": {
  "kernelspec": {
   "display_name": "Python 3",
   "language": "python",
   "name": "python3"
  },
  "language_info": {
   "codemirror_mode": {
    "name": "ipython",
    "version": 3
   },
   "file_extension": ".py",
   "mimetype": "text/x-python",
   "name": "python",
   "nbconvert_exporter": "python",
   "pygments_lexer": "ipython3",
   "version": "3.8.10"
  }
 },
 "nbformat": 4,
 "nbformat_minor": 4
}
