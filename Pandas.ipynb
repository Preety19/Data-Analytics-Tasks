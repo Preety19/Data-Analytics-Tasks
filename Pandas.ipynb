{
 "cells": [
  {
   "cell_type": "markdown",
   "metadata": {},
   "source": [
    "## Pandas"
   ]
  },
  {
   "cell_type": "code",
   "execution_count": 2,
   "metadata": {},
   "outputs": [],
   "source": [
    "import pandas as pd"
   ]
  },
  {
   "cell_type": "code",
   "execution_count": 4,
   "metadata": {},
   "outputs": [
    {
     "data": {
      "text/html": [
       "<div>\n",
       "<style scoped>\n",
       "    .dataframe tbody tr th:only-of-type {\n",
       "        vertical-align: middle;\n",
       "    }\n",
       "\n",
       "    .dataframe tbody tr th {\n",
       "        vertical-align: top;\n",
       "    }\n",
       "\n",
       "    .dataframe thead th {\n",
       "        text-align: right;\n",
       "    }\n",
       "</style>\n",
       "<table border=\"1\" class=\"dataframe\">\n",
       "  <thead>\n",
       "    <tr style=\"text-align: right;\">\n",
       "      <th></th>\n",
       "      <th>a</th>\n",
       "      <th>b</th>\n",
       "      <th>c</th>\n",
       "    </tr>\n",
       "  </thead>\n",
       "  <tbody>\n",
       "    <tr>\n",
       "      <th>1</th>\n",
       "      <td>4</td>\n",
       "      <td>7</td>\n",
       "      <td>10</td>\n",
       "    </tr>\n",
       "    <tr>\n",
       "      <th>2</th>\n",
       "      <td>5</td>\n",
       "      <td>8</td>\n",
       "      <td>11</td>\n",
       "    </tr>\n",
       "    <tr>\n",
       "      <th>3</th>\n",
       "      <td>6</td>\n",
       "      <td>9</td>\n",
       "      <td>12</td>\n",
       "    </tr>\n",
       "  </tbody>\n",
       "</table>\n",
       "</div>"
      ],
      "text/plain": [
       "   a  b   c\n",
       "1  4  7  10\n",
       "2  5  8  11\n",
       "3  6  9  12"
      ]
     },
     "execution_count": 4,
     "metadata": {},
     "output_type": "execute_result"
    }
   ],
   "source": [
    "df = pd.DataFrame(\n",
    "{\"a\" : [4, 5, 6],\n",
    "\"b\" : [7, 8, 9],\n",
    "\"c\" : [10, 11, 12]},\n",
    "index = [1, 2, 3])\n",
    "\n",
    "df"
   ]
  },
  {
   "cell_type": "code",
   "execution_count": 5,
   "metadata": {},
   "outputs": [
    {
     "data": {
      "text/html": [
       "<div>\n",
       "<style scoped>\n",
       "    .dataframe tbody tr th:only-of-type {\n",
       "        vertical-align: middle;\n",
       "    }\n",
       "\n",
       "    .dataframe tbody tr th {\n",
       "        vertical-align: top;\n",
       "    }\n",
       "\n",
       "    .dataframe thead th {\n",
       "        text-align: right;\n",
       "    }\n",
       "</style>\n",
       "<table border=\"1\" class=\"dataframe\">\n",
       "  <thead>\n",
       "    <tr style=\"text-align: right;\">\n",
       "      <th></th>\n",
       "      <th>a</th>\n",
       "      <th>b</th>\n",
       "      <th>c</th>\n",
       "    </tr>\n",
       "  </thead>\n",
       "  <tbody>\n",
       "    <tr>\n",
       "      <th>1</th>\n",
       "      <td>4</td>\n",
       "      <td>7</td>\n",
       "      <td>10</td>\n",
       "    </tr>\n",
       "    <tr>\n",
       "      <th>2</th>\n",
       "      <td>5</td>\n",
       "      <td>8</td>\n",
       "      <td>11</td>\n",
       "    </tr>\n",
       "    <tr>\n",
       "      <th>3</th>\n",
       "      <td>6</td>\n",
       "      <td>9</td>\n",
       "      <td>12</td>\n",
       "    </tr>\n",
       "  </tbody>\n",
       "</table>\n",
       "</div>"
      ],
      "text/plain": [
       "   a  b   c\n",
       "1  4  7  10\n",
       "2  5  8  11\n",
       "3  6  9  12"
      ]
     },
     "execution_count": 5,
     "metadata": {},
     "output_type": "execute_result"
    }
   ],
   "source": [
    "df = pd.DataFrame(\n",
    "[[4, 7, 10],\n",
    "[5, 8, 11],\n",
    "[6, 9, 12]],\n",
    "index=[1, 2, 3],\n",
    "columns=['a', 'b', 'c'])\n",
    "\n",
    "df"
   ]
  },
  {
   "cell_type": "code",
   "execution_count": 7,
   "metadata": {},
   "outputs": [
    {
     "data": {
      "text/html": [
       "<div>\n",
       "<style scoped>\n",
       "    .dataframe tbody tr th:only-of-type {\n",
       "        vertical-align: middle;\n",
       "    }\n",
       "\n",
       "    .dataframe tbody tr th {\n",
       "        vertical-align: top;\n",
       "    }\n",
       "\n",
       "    .dataframe thead th {\n",
       "        text-align: right;\n",
       "    }\n",
       "</style>\n",
       "<table border=\"1\" class=\"dataframe\">\n",
       "  <thead>\n",
       "    <tr style=\"text-align: right;\">\n",
       "      <th></th>\n",
       "      <th></th>\n",
       "      <th>a</th>\n",
       "      <th>b</th>\n",
       "      <th>c</th>\n",
       "    </tr>\n",
       "    <tr>\n",
       "      <th>n</th>\n",
       "      <th>v</th>\n",
       "      <th></th>\n",
       "      <th></th>\n",
       "      <th></th>\n",
       "    </tr>\n",
       "  </thead>\n",
       "  <tbody>\n",
       "    <tr>\n",
       "      <th rowspan=\"2\" valign=\"top\">d</th>\n",
       "      <th>1</th>\n",
       "      <td>4</td>\n",
       "      <td>7</td>\n",
       "      <td>10</td>\n",
       "    </tr>\n",
       "    <tr>\n",
       "      <th>2</th>\n",
       "      <td>5</td>\n",
       "      <td>8</td>\n",
       "      <td>11</td>\n",
       "    </tr>\n",
       "    <tr>\n",
       "      <th>e</th>\n",
       "      <th>2</th>\n",
       "      <td>6</td>\n",
       "      <td>9</td>\n",
       "      <td>12</td>\n",
       "    </tr>\n",
       "  </tbody>\n",
       "</table>\n",
       "</div>"
      ],
      "text/plain": [
       "     a  b   c\n",
       "n v          \n",
       "d 1  4  7  10\n",
       "  2  5  8  11\n",
       "e 2  6  9  12"
      ]
     },
     "execution_count": 7,
     "metadata": {},
     "output_type": "execute_result"
    }
   ],
   "source": [
    "#Create DataFrame with a MultiIndex\n",
    "df = pd.DataFrame(\n",
    "{\"a\" : [4 ,5, 6],\n",
    "\"b\" : [7, 8, 9],\n",
    "\"c\" : [10, 11, 12]},\n",
    "index = pd.MultiIndex.from_tuples(\n",
    "[('d', 1), ('d', 2),\n",
    "('e', 2)], names=['n', 'v']))\n",
    "\n",
    "df"
   ]
  },
  {
   "cell_type": "markdown",
   "metadata": {},
   "source": [
    "### Subset observations - columns"
   ]
  },
  {
   "cell_type": "raw",
   "metadata": {},
   "source": [
    "df[['width’, 'length’, 'species']]              Select multiple columns with specific names.\n",
    "df['width'] or df.width                         Select single column with specific name.\n",
    "df.filter(regex='regex')                        Select columns whose name matches regular expression regex."
   ]
  },
  {
   "cell_type": "markdown",
   "metadata": {},
   "source": [
    "### Subset observations - rows"
   ]
  },
  {
   "cell_type": "raw",
   "metadata": {},
   "source": [
    "df[df.Length > 7]          #Extract rows that meet logical criteria.\n",
    "df.drop_duplicates()       #Remove duplicate rows (only considers columns).\n",
    "df.sample(frac=0.5)        #Randomly select fraction of rows.\n",
    "df.sample(n=10)            #Randomly select n rows.\n",
    "df.nlargest(n, 'value’)    #Select and order top n entries.\n",
    "df.nsmallest(n, 'value')   #Select and order bottom n entries.\n",
    "df.head(n)                 #Select first n rows.\n",
    "df.tail(n)                 #Select last n rows.\n"
   ]
  },
  {
   "cell_type": "markdown",
   "metadata": {},
   "source": [
    "### Subset rows and columns"
   ]
  },
  {
   "cell_type": "raw",
   "metadata": {},
   "source": [
    "Use df.loc[] and df.iloc[]         to select only rows, only columns or both.\n",
    "Use df.at[] and df.iat[]           to access a single value by row and column.First index selects rows, second index                                          columns.\n",
    "df.iloc[10:20]                     Select rows 10-20.\n",
    "df.iloc[:, [1, 2, 5]]              Select columns in positions 1, 2 and 5 (first column is 0).\n",
    "df.loc[:, 'x2':'x4']               Select all columns between x2 and x4 (inclusive).\n",
    "df.loc[df['a'] > 10, ['a’, 'c']]   Select rows meeting logical condition, and only the specific columns .\n",
    "df.iat[1, 2]                       Access single value by index\n",
    "df.at[4, 'A']                      Access single value by label"
   ]
  },
  {
   "cell_type": "markdown",
   "metadata": {},
   "source": [
    "### Reshaping data"
   ]
  },
  {
   "cell_type": "raw",
   "metadata": {},
   "source": [
    "pd.melt(df)                                       Gather columns into rows\n",
    "pd.concat([df1,df2])                              Append rows of DataFrames\n",
    "pd.concat([df1,df2], axis=1)                      Append columns of DataFrames\n",
    "df.pivot(columns='var', values='val')             Spread rows into columns\n",
    "\n",
    "df.sort_values('mpg')                             Order rows by values of a column (low to high)\n",
    "df.sort_values('mpg’, ascending=False)            Order rows by values of a column (high to low).\n",
    "df.rename(columns = {'y':'year'})                 Rename the columns of a DataFrame\n",
    "df.sort_index()                                   Sort the index of a DataFrame\n",
    "df.reset_index()                                  Reset index of DataFrame to row numbers, moving index to columns\n",
    "df.drop(columns=['Length’, 'Height'])             Drop columns from DataFrame\n"
   ]
  },
  {
   "cell_type": "markdown",
   "metadata": {},
   "source": [
    "### Combining Datasets"
   ]
  },
  {
   "cell_type": "raw",
   "metadata": {},
   "source": [
    "pd.merge(adf, bdf,how='left', on='x1')                     Join matching rows from bdf to adf\n",
    "pd.merge(adf, bdf,how='right', on='x1')                    Join matching rows from adf to bdf\n",
    "pd.merge(adf, bdf,how='inner', on='x1')                    Join data. Retain only rows in both sets\n",
    "pd.merge(adf, bdf,how='outer', on='x1')                    Join data. Retain all values, all rows\n",
    "\n",
    "\n",
    "#Filtering joins\n",
    "adf[adf.x1.isin(bdf.x1)]                                   All rows in adf that have a match in bdf\n",
    "adf[~adf.x1.isin(bdf.x1)]                                  All rows in adf that do not have a match in bdf\n",
    "\n",
    "pd.merge(ydf, zdf)                                         Rows that appear in both ydf and zdf(Intersection)\n",
    "pd.merge(ydf, zdf, how='outer')                            Rows that appear in either or both ydf and zdf (Union)\n",
    "pd.merge(ydf, zdf, how='outer',indicator=True).query('_merge == \"left_only\"').drop(columns=['_merge'])\n",
    "                                                                         Rows that appear in ydf but not zdf (Setdiff)"
   ]
  },
  {
   "cell_type": "markdown",
   "metadata": {},
   "source": [
    "### Summary functions"
   ]
  },
  {
   "cell_type": "raw",
   "metadata": {},
   "source": [
    "df['w'].value_counts()                   Count number of rows with each unique value of variable\n",
    "len(df)                                  # of rows in DataFrame.\n",
    "df.shape                                 Tuple of # of rows, # of columns in DataFrame.\n",
    "df['w'].nunique()                        # of distinct values in a column.\n",
    "df.describe()                            Basic descriptive and statistics for each column (or GroupBy)\n",
    "\n",
    "                                         pandas provides a large set of summary functions that operate on\n",
    "                                         different kinds of pandas objects (DataFrame columns, Series,\n",
    "                                         GroupBy, Expanding and Rolling (see below)) and produce single\n",
    "                                         values for each of the groups. When applied to a DataFrame, the\n",
    "                                         result is returned as a pandas Series for each column. Examples:\n",
    "                                         \n",
    "                                         \n",
    "sum()                                    Sum values of each object\n",
    "count()                                  Count non-NA/null values of\n",
    "\n",
    "each object.\n",
    "median()                                 Median value of each object\n",
    "quantile([0.25,0.75])                    Quantiles of each object\n",
    "apply(function)                          Apply function to each object\n",
    "min()                                    Minimum value in each object\n",
    "max()                                    Maximum value in each object\n",
    "mean()                                   Mean value of each object\n",
    "var()                                    Variance of each object.\n",
    "std()                                    Standard deviation of each object"
   ]
  },
  {
   "cell_type": "markdown",
   "metadata": {},
   "source": [
    "### Handling missing data"
   ]
  },
  {
   "cell_type": "raw",
   "metadata": {},
   "source": [
    "df.dropna()                                 Drop rows with any column having NA/null data.\n",
    "df.fillna(value)                            Replace all NA/null data with value"
   ]
  },
  {
   "cell_type": "markdown",
   "metadata": {},
   "source": [
    "### Making new columns"
   ]
  },
  {
   "cell_type": "raw",
   "metadata": {},
   "source": [
    "df.assign(Area=lambda df: df.Length*df.Height)                   Compute and append one or more new columns.\n",
    "df['Volume'] = df.Length*df.Height*df.Depth                      Add single column.\n",
    "pd.qcut(df.col, n, labels=False)                                 Bin column into n buckets."
   ]
  },
  {
   "cell_type": "markdown",
   "metadata": {},
   "source": [
    "### Groupby"
   ]
  },
  {
   "cell_type": "raw",
   "metadata": {},
   "source": [
    "df.groupby(by=\"col\")                      Return a GroupBy object, grouped by values in column named \"col\".\n",
    "df.groupby(level=\"ind\")                   Return a GroupBy object, grouped by values in index level named \"ind\"\n",
    "\n",
    "\n",
    "All of the summary functions listed above can be applied to a group.\n",
    "Additional GroupBy functions:\n",
    "max(axis=1)                        Element-wise max.\n",
    "clip(lower=-10,upper=10)           Trim values at input thresholds\n",
    "min(axis=1)                        Element-wise min\n",
    "abs()                              Absolute value\n",
    "\n",
    "\n",
    "The examples below can also be applied to groups. In this case, the\n",
    "function is applied on a per-group basis, and the returned vectors\n",
    "are of the length of the original DataFrame\n",
    "\n",
    "Windows\n",
    "df.expanding()                     Return an Expanding object allowing summary functions to be applied cumulatively.\n",
    "df.rolling(n)                      Return a Rolling object allowing summary functions to be applied to windows of length n\n",
    "size()                             Size of each group\n",
    "agg(function)                      Aggregate group using function\n",
    "\n",
    "\n",
    "shift(1)                           Copy with values shifted by 1.\n",
    "rank(method='dense')               Ranks with no gaps.\n",
    "rank(method='min')                 Ranks. Ties get min rank.\n",
    "rank(pct=True)                     Ranks rescaled to interval [0, 1].\n",
    "rank(method='first')               Ranks. Ties go to first value.\n",
    "shift(-1)                          Copy with values lagged by 1.\n",
    "cumsum()                           Cumulative sum.\n",
    "cummax()                           Cumulative max.\n",
    "cummin()                           Cumulative min.\n",
    "cumprod()                          Cumulative product."
   ]
  },
  {
   "cell_type": "markdown",
   "metadata": {},
   "source": [
    "### Windows"
   ]
  },
  {
   "cell_type": "code",
   "execution_count": null,
   "metadata": {},
   "outputs": [],
   "source": [
    "df.expanding()                   Return an Expanding object allowing summary functions to be applied cumulatively\n",
    "df.rolling(n)                    Return a Rolling object allowing summary functions to be applied to windows of length n"
   ]
  },
  {
   "cell_type": "markdown",
   "metadata": {},
   "source": [
    "### Plotting"
   ]
  },
  {
   "cell_type": "code",
   "execution_count": null,
   "metadata": {},
   "outputs": [],
   "source": [
    "df.plot.hist()                   Histogram for each column\n",
    "df.plot.scatter(x='w',y='h')     Scatter chart using pairs of points"
   ]
  }
 ],
 "metadata": {
  "kernelspec": {
   "display_name": "Python 3 (ipykernel)",
   "language": "python",
   "name": "python3"
  },
  "language_info": {
   "codemirror_mode": {
    "name": "ipython",
    "version": 3
   },
   "file_extension": ".py",
   "mimetype": "text/x-python",
   "name": "python",
   "nbconvert_exporter": "python",
   "pygments_lexer": "ipython3",
   "version": "3.9.12"
  }
 },
 "nbformat": 4,
 "nbformat_minor": 4
}
