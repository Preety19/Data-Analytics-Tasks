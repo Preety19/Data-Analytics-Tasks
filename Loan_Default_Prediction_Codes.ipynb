{
 "cells": [
  {
   "cell_type": "markdown",
   "metadata": {},
   "source": [
    "### Importing the Libraries"
   ]
  },
  {
   "cell_type": "code",
   "execution_count": 100,
   "metadata": {},
   "outputs": [],
   "source": [
    "import numpy as np\n",
    "import pandas as pd\n",
    "from matplotlib import pyplot as plt\n",
    "import seaborn as sns\n",
    "from statsmodels.graphics.mosaicplot import mosaic\n",
    "from itertools import product\n",
    "from sklearn.preprocessing import LabelEncoder\n",
    "from sklearn.model_selection import train_test_split\n",
    "from sklearn.metrics import accuracy_score\n",
    "from sklearn.metrics import accuracy_score as score\n",
    "from sklearn.metrics import recall_score\n",
    "from sklearn.metrics import precision_score\n",
    "from sklearn.metrics import classification_report\n",
    "from sklearn.metrics import confusion_matrix\n",
    "from sklearn.metrics import roc_curve, roc_auc_score\n",
    "from sklearn import metrics"
   ]
  },
  {
   "cell_type": "markdown",
   "metadata": {},
   "source": [
    "### Loading the train data"
   ]
  },
  {
   "cell_type": "code",
   "execution_count": 101,
   "metadata": {},
   "outputs": [
    {
     "name": "stderr",
     "output_type": "stream",
     "text": [
      "C:\\Users\\tiwar\\anaconda3\\lib\\site-packages\\IPython\\core\\interactiveshell.py:3418: DtypeWarning: Columns (19) have mixed types.Specify dtype option on import or set low_memory=False.\n",
      "  exec(code_obj, self.user_global_ns, self.user_ns)\n"
     ]
    },
    {
     "data": {
      "text/html": [
       "<div>\n",
       "<style scoped>\n",
       "    .dataframe tbody tr th:only-of-type {\n",
       "        vertical-align: middle;\n",
       "    }\n",
       "\n",
       "    .dataframe tbody tr th {\n",
       "        vertical-align: top;\n",
       "    }\n",
       "\n",
       "    .dataframe thead th {\n",
       "        text-align: right;\n",
       "    }\n",
       "</style>\n",
       "<table border=\"1\" class=\"dataframe\">\n",
       "  <thead>\n",
       "    <tr style=\"text-align: right;\">\n",
       "      <th></th>\n",
       "      <th>Loan_ID</th>\n",
       "      <th>Client_ID</th>\n",
       "      <th>Loanee_Gender</th>\n",
       "      <th>Loanee_Annual_Income</th>\n",
       "      <th>Loanee_Education</th>\n",
       "      <th>Loanee_Occupation</th>\n",
       "      <th>Loanee_Marital_Status</th>\n",
       "      <th>Credit_Criteria</th>\n",
       "      <th>Loanee_Third_Party_Credit_Rating</th>\n",
       "      <th>Loan_Type</th>\n",
       "      <th>Loan_Amount</th>\n",
       "      <th>Loan_Amount_Category</th>\n",
       "      <th>Credit_line</th>\n",
       "      <th>Past_year_overdue</th>\n",
       "      <th>EMI_Payment_Mode</th>\n",
       "      <th>Bank_Division</th>\n",
       "      <th>EMI_Amount</th>\n",
       "      <th>Loan_Application_Date</th>\n",
       "      <th>Default_Flag</th>\n",
       "      <th>Type_of_Default</th>\n",
       "    </tr>\n",
       "  </thead>\n",
       "  <tbody>\n",
       "    <tr>\n",
       "      <th>0</th>\n",
       "      <td>1</td>\n",
       "      <td>54549</td>\n",
       "      <td>M</td>\n",
       "      <td>300000.0</td>\n",
       "      <td>12th pass</td>\n",
       "      <td>SALARIED</td>\n",
       "      <td>M</td>\n",
       "      <td>Yes</td>\n",
       "      <td>Red</td>\n",
       "      <td>A</td>\n",
       "      <td>300000</td>\n",
       "      <td>&lt;50L</td>\n",
       "      <td>10.0</td>\n",
       "      <td>1.0</td>\n",
       "      <td>M!</td>\n",
       "      <td>X1</td>\n",
       "      <td>3600</td>\n",
       "      <td>13/04/2004</td>\n",
       "      <td>No</td>\n",
       "      <td>NaN</td>\n",
       "    </tr>\n",
       "    <tr>\n",
       "      <th>1</th>\n",
       "      <td>2</td>\n",
       "      <td>109641</td>\n",
       "      <td>M</td>\n",
       "      <td>1475000.0</td>\n",
       "      <td>Graduatee</td>\n",
       "      <td>SALARIED</td>\n",
       "      <td>M</td>\n",
       "      <td>Yes</td>\n",
       "      <td>Red</td>\n",
       "      <td>A</td>\n",
       "      <td>10000000</td>\n",
       "      <td>&gt;=50</td>\n",
       "      <td>30.0</td>\n",
       "      <td>26.0</td>\n",
       "      <td>M2</td>\n",
       "      <td>X2</td>\n",
       "      <td>11866</td>\n",
       "      <td>28/11/2003</td>\n",
       "      <td>No</td>\n",
       "      <td>NaN</td>\n",
       "    </tr>\n",
       "    <tr>\n",
       "      <th>2</th>\n",
       "      <td>3</td>\n",
       "      <td>110227</td>\n",
       "      <td>M</td>\n",
       "      <td>500000.0</td>\n",
       "      <td>Graduate</td>\n",
       "      <td>SALARIED</td>\n",
       "      <td>S</td>\n",
       "      <td>Yes</td>\n",
       "      <td>Green</td>\n",
       "      <td>A</td>\n",
       "      <td>10000000</td>\n",
       "      <td>&gt;=50</td>\n",
       "      <td>26.0</td>\n",
       "      <td>22.0</td>\n",
       "      <td>M2</td>\n",
       "      <td>X3</td>\n",
       "      <td>7565</td>\n",
       "      <td>04/01/2004</td>\n",
       "      <td>No</td>\n",
       "      <td>NaN</td>\n",
       "    </tr>\n",
       "    <tr>\n",
       "      <th>3</th>\n",
       "      <td>4</td>\n",
       "      <td>104886</td>\n",
       "      <td>M</td>\n",
       "      <td>400000.0</td>\n",
       "      <td>Graduate</td>\n",
       "      <td>SALARIED</td>\n",
       "      <td>M</td>\n",
       "      <td>Yes</td>\n",
       "      <td>Amber</td>\n",
       "      <td>A</td>\n",
       "      <td>2500000</td>\n",
       "      <td>&lt;50L</td>\n",
       "      <td>25.0</td>\n",
       "      <td>21.0</td>\n",
       "      <td>M2</td>\n",
       "      <td>X3</td>\n",
       "      <td>4993</td>\n",
       "      <td>08/09/2004</td>\n",
       "      <td>No</td>\n",
       "      <td>NaN</td>\n",
       "    </tr>\n",
       "    <tr>\n",
       "      <th>4</th>\n",
       "      <td>6</td>\n",
       "      <td>90854</td>\n",
       "      <td>M</td>\n",
       "      <td>1500000.0</td>\n",
       "      <td>Post Grad or Higher</td>\n",
       "      <td>SALARIED</td>\n",
       "      <td>M</td>\n",
       "      <td>Yes</td>\n",
       "      <td>Red</td>\n",
       "      <td>A</td>\n",
       "      <td>5000000</td>\n",
       "      <td>&gt;=50</td>\n",
       "      <td>25.0</td>\n",
       "      <td>21.0</td>\n",
       "      <td>M2</td>\n",
       "      <td>X1</td>\n",
       "      <td>18914</td>\n",
       "      <td>06/05/2003</td>\n",
       "      <td>No</td>\n",
       "      <td>NaN</td>\n",
       "    </tr>\n",
       "  </tbody>\n",
       "</table>\n",
       "</div>"
      ],
      "text/plain": [
       "   Loan_ID  Client_ID Loanee_Gender  Loanee_Annual_Income  \\\n",
       "0        1      54549             M              300000.0   \n",
       "1        2     109641             M             1475000.0   \n",
       "2        3     110227             M              500000.0   \n",
       "3        4     104886             M              400000.0   \n",
       "4        6      90854             M             1500000.0   \n",
       "\n",
       "      Loanee_Education Loanee_Occupation Loanee_Marital_Status  \\\n",
       "0            12th pass          SALARIED                     M   \n",
       "1            Graduatee          SALARIED                     M   \n",
       "2             Graduate          SALARIED                     S   \n",
       "3             Graduate          SALARIED                     M   \n",
       "4  Post Grad or Higher          SALARIED                     M   \n",
       "\n",
       "  Credit_Criteria Loanee_Third_Party_Credit_Rating Loan_Type  Loan_Amount  \\\n",
       "0             Yes                              Red         A       300000   \n",
       "1             Yes                              Red         A     10000000   \n",
       "2             Yes                            Green         A     10000000   \n",
       "3             Yes                            Amber         A      2500000   \n",
       "4             Yes                              Red         A      5000000   \n",
       "\n",
       "  Loan_Amount_Category  Credit_line  Past_year_overdue EMI_Payment_Mode  \\\n",
       "0                 <50L         10.0                1.0               M!   \n",
       "1                 >=50         30.0               26.0               M2   \n",
       "2                 >=50         26.0               22.0               M2   \n",
       "3                 <50L         25.0               21.0               M2   \n",
       "4                 >=50         25.0               21.0               M2   \n",
       "\n",
       "  Bank_Division  EMI_Amount Loan_Application_Date Default_Flag Type_of_Default  \n",
       "0            X1        3600            13/04/2004           No             NaN  \n",
       "1            X2       11866            28/11/2003           No             NaN  \n",
       "2            X3        7565            04/01/2004           No             NaN  \n",
       "3            X3        4993            08/09/2004           No             NaN  \n",
       "4            X1       18914            06/05/2003           No             NaN  "
      ]
     },
     "execution_count": 101,
     "metadata": {},
     "output_type": "execute_result"
    }
   ],
   "source": [
    "train = pd.read_csv('TRAIN.csv')\n",
    "train.head()"
   ]
  },
  {
   "cell_type": "code",
   "execution_count": 102,
   "metadata": {},
   "outputs": [],
   "source": [
    "#train = pd.DataFrame(data=train)"
   ]
  },
  {
   "cell_type": "code",
   "execution_count": 103,
   "metadata": {},
   "outputs": [
    {
     "name": "stdout",
     "output_type": "stream",
     "text": [
      "<class 'pandas.core.frame.DataFrame'>\n",
      "RangeIndex: 397303 entries, 0 to 397302\n",
      "Data columns (total 20 columns):\n",
      " #   Column                            Non-Null Count   Dtype  \n",
      "---  ------                            --------------   -----  \n",
      " 0   Loan_ID                           397303 non-null  int64  \n",
      " 1   Client_ID                         397303 non-null  int64  \n",
      " 2   Loanee_Gender                     397301 non-null  object \n",
      " 3   Loanee_Annual_Income              397303 non-null  float64\n",
      " 4   Loanee_Education                  397303 non-null  object \n",
      " 5   Loanee_Occupation                 395307 non-null  object \n",
      " 6   Loanee_Marital_Status             397303 non-null  object \n",
      " 7   Credit_Criteria                   397303 non-null  object \n",
      " 8   Loanee_Third_Party_Credit_Rating  397303 non-null  object \n",
      " 9   Loan_Type                         397303 non-null  object \n",
      " 10  Loan_Amount                       397303 non-null  int64  \n",
      " 11  Loan_Amount_Category              397303 non-null  object \n",
      " 12  Credit_line                       397181 non-null  float64\n",
      " 13  Past_year_overdue                 397181 non-null  float64\n",
      " 14  EMI_Payment_Mode                  397303 non-null  object \n",
      " 15  Bank_Division                     397303 non-null  object \n",
      " 16  EMI_Amount                        397303 non-null  int64  \n",
      " 17  Loan_Application_Date             397303 non-null  object \n",
      " 18  Default_Flag                      397303 non-null  object \n",
      " 19  Type_of_Default                   713 non-null     object \n",
      "dtypes: float64(3), int64(4), object(13)\n",
      "memory usage: 60.6+ MB\n"
     ]
    }
   ],
   "source": [
    "train.info()"
   ]
  },
  {
   "cell_type": "code",
   "execution_count": 104,
   "metadata": {},
   "outputs": [
    {
     "data": {
      "text/plain": [
       "(397303, 20)"
      ]
     },
     "execution_count": 104,
     "metadata": {},
     "output_type": "execute_result"
    }
   ],
   "source": [
    "train.shape"
   ]
  },
  {
   "cell_type": "markdown",
   "metadata": {},
   "source": [
    "### Summary statistics of numerical columns of train data"
   ]
  },
  {
   "cell_type": "code",
   "execution_count": 105,
   "metadata": {},
   "outputs": [
    {
     "data": {
      "text/html": [
       "<div>\n",
       "<style scoped>\n",
       "    .dataframe tbody tr th:only-of-type {\n",
       "        vertical-align: middle;\n",
       "    }\n",
       "\n",
       "    .dataframe tbody tr th {\n",
       "        vertical-align: top;\n",
       "    }\n",
       "\n",
       "    .dataframe thead th {\n",
       "        text-align: right;\n",
       "    }\n",
       "</style>\n",
       "<table border=\"1\" class=\"dataframe\">\n",
       "  <thead>\n",
       "    <tr style=\"text-align: right;\">\n",
       "      <th></th>\n",
       "      <th>Loan_ID</th>\n",
       "      <th>Client_ID</th>\n",
       "      <th>Loanee_Annual_Income</th>\n",
       "      <th>Loan_Amount</th>\n",
       "      <th>Credit_line</th>\n",
       "      <th>Past_year_overdue</th>\n",
       "      <th>EMI_Amount</th>\n",
       "    </tr>\n",
       "  </thead>\n",
       "  <tbody>\n",
       "    <tr>\n",
       "      <th>count</th>\n",
       "      <td>397303.000000</td>\n",
       "      <td>397303.000000</td>\n",
       "      <td>3.973030e+05</td>\n",
       "      <td>3.973030e+05</td>\n",
       "      <td>397181.000000</td>\n",
       "      <td>397181.000000</td>\n",
       "      <td>3.973030e+05</td>\n",
       "    </tr>\n",
       "    <tr>\n",
       "      <th>mean</th>\n",
       "      <td>270273.350375</td>\n",
       "      <td>242749.346813</td>\n",
       "      <td>-1.371183e+06</td>\n",
       "      <td>5.965406e+06</td>\n",
       "      <td>26.601486</td>\n",
       "      <td>22.454727</td>\n",
       "      <td>1.096141e+04</td>\n",
       "    </tr>\n",
       "    <tr>\n",
       "      <th>std</th>\n",
       "      <td>239857.150729</td>\n",
       "      <td>127297.242938</td>\n",
       "      <td>1.586849e+09</td>\n",
       "      <td>6.851910e+06</td>\n",
       "      <td>11.402733</td>\n",
       "      <td>11.484180</td>\n",
       "      <td>1.380287e+04</td>\n",
       "    </tr>\n",
       "    <tr>\n",
       "      <th>min</th>\n",
       "      <td>1.000000</td>\n",
       "      <td>100.000000</td>\n",
       "      <td>-1.000000e+12</td>\n",
       "      <td>3.500000e+04</td>\n",
       "      <td>5.000000</td>\n",
       "      <td>1.000000</td>\n",
       "      <td>1.159000e+03</td>\n",
       "    </tr>\n",
       "    <tr>\n",
       "      <th>25%</th>\n",
       "      <td>100720.500000</td>\n",
       "      <td>142897.000000</td>\n",
       "      <td>3.200000e+05</td>\n",
       "      <td>2.500000e+06</td>\n",
       "      <td>20.000000</td>\n",
       "      <td>16.000000</td>\n",
       "      <td>5.040000e+03</td>\n",
       "    </tr>\n",
       "    <tr>\n",
       "      <th>50%</th>\n",
       "      <td>201356.000000</td>\n",
       "      <td>246670.000000</td>\n",
       "      <td>5.000000e+05</td>\n",
       "      <td>5.000000e+06</td>\n",
       "      <td>30.000000</td>\n",
       "      <td>26.000000</td>\n",
       "      <td>8.160000e+03</td>\n",
       "    </tr>\n",
       "    <tr>\n",
       "      <th>75%</th>\n",
       "      <td>301902.500000</td>\n",
       "      <td>350158.500000</td>\n",
       "      <td>1.000000e+06</td>\n",
       "      <td>8.000000e+06</td>\n",
       "      <td>35.000000</td>\n",
       "      <td>31.000000</td>\n",
       "      <td>1.307600e+04</td>\n",
       "    </tr>\n",
       "    <tr>\n",
       "      <th>max</th>\n",
       "      <td>780594.000000</td>\n",
       "      <td>764088.000000</td>\n",
       "      <td>9.410675e+09</td>\n",
       "      <td>5.000000e+08</td>\n",
       "      <td>57.000000</td>\n",
       "      <td>53.000000</td>\n",
       "      <td>2.773698e+06</td>\n",
       "    </tr>\n",
       "  </tbody>\n",
       "</table>\n",
       "</div>"
      ],
      "text/plain": [
       "             Loan_ID      Client_ID  Loanee_Annual_Income   Loan_Amount  \\\n",
       "count  397303.000000  397303.000000          3.973030e+05  3.973030e+05   \n",
       "mean   270273.350375  242749.346813         -1.371183e+06  5.965406e+06   \n",
       "std    239857.150729  127297.242938          1.586849e+09  6.851910e+06   \n",
       "min         1.000000     100.000000         -1.000000e+12  3.500000e+04   \n",
       "25%    100720.500000  142897.000000          3.200000e+05  2.500000e+06   \n",
       "50%    201356.000000  246670.000000          5.000000e+05  5.000000e+06   \n",
       "75%    301902.500000  350158.500000          1.000000e+06  8.000000e+06   \n",
       "max    780594.000000  764088.000000          9.410675e+09  5.000000e+08   \n",
       "\n",
       "         Credit_line  Past_year_overdue    EMI_Amount  \n",
       "count  397181.000000      397181.000000  3.973030e+05  \n",
       "mean       26.601486          22.454727  1.096141e+04  \n",
       "std        11.402733          11.484180  1.380287e+04  \n",
       "min         5.000000           1.000000  1.159000e+03  \n",
       "25%        20.000000          16.000000  5.040000e+03  \n",
       "50%        30.000000          26.000000  8.160000e+03  \n",
       "75%        35.000000          31.000000  1.307600e+04  \n",
       "max        57.000000          53.000000  2.773698e+06  "
      ]
     },
     "execution_count": 105,
     "metadata": {},
     "output_type": "execute_result"
    }
   ],
   "source": [
    "train.describe()"
   ]
  },
  {
   "cell_type": "markdown",
   "metadata": {},
   "source": [
    "## Missing Value imputaion"
   ]
  },
  {
   "cell_type": "code",
   "execution_count": 106,
   "metadata": {},
   "outputs": [
    {
     "name": "stdout",
     "output_type": "stream",
     "text": [
      "Loan_ID                                  0\n",
      "Client_ID                                0\n",
      "Loanee_Gender                            2\n",
      "Loanee_Annual_Income                     0\n",
      "Loanee_Education                         0\n",
      "Loanee_Occupation                     1996\n",
      "Loanee_Marital_Status                    0\n",
      "Credit_Criteria                          0\n",
      "Loanee_Third_Party_Credit_Rating         0\n",
      "Loan_Type                                0\n",
      "Loan_Amount                              0\n",
      "Loan_Amount_Category                     0\n",
      "Credit_line                            122\n",
      "Past_year_overdue                      122\n",
      "EMI_Payment_Mode                         0\n",
      "Bank_Division                            0\n",
      "EMI_Amount                               0\n",
      "Loan_Application_Date                    0\n",
      "Default_Flag                             0\n",
      "Type_of_Default                     396590\n",
      "dtype: int64\n"
     ]
    }
   ],
   "source": [
    "### Checking for null values\n",
    "print(train.isnull().sum())"
   ]
  },
  {
   "cell_type": "markdown",
   "metadata": {},
   "source": [
    "### Ratio of the missing values in train dataset"
   ]
  },
  {
   "cell_type": "code",
   "execution_count": 107,
   "metadata": {},
   "outputs": [
    {
     "data": {
      "text/plain": [
       "Loanee_Gender         0.000503\n",
       "Credit_line           0.030707\n",
       "Past_year_overdue     0.030707\n",
       "Loanee_Occupation     0.502387\n",
       "Type_of_Default      99.820540\n",
       "dtype: float64"
      ]
     },
     "execution_count": 107,
     "metadata": {},
     "output_type": "execute_result"
    }
   ],
   "source": [
    "miss = train.isnull().sum() / len(train) * 100\n",
    "miss = miss[miss > 0]\n",
    "miss.sort_values(inplace=True)\n",
    "miss"
   ]
  },
  {
   "cell_type": "markdown",
   "metadata": {},
   "source": [
    "##### Here we can see that \"Type_of_Default\" column has more than 99% missing values, it implies that it won't \n",
    "give any great insights in further analysis and there is no point in imputing so many missing values, \n",
    "so this column will the dropped from the dataset for further analysis"
   ]
  },
  {
   "cell_type": "markdown",
   "metadata": {},
   "source": [
    "### Null value imputation in train dataset"
   ]
  },
  {
   "cell_type": "code",
   "execution_count": 108,
   "metadata": {},
   "outputs": [],
   "source": [
    "##For Gender Column\n",
    "train['Loanee_Gender']=train['Loanee_Gender'].fillna(train['Loanee_Gender'].mode()[0])"
   ]
  },
  {
   "cell_type": "code",
   "execution_count": 109,
   "metadata": {},
   "outputs": [
    {
     "data": {
      "text/plain": [
       "array(['12th pass', 'Graduatee', 'Graduate', 'Post Grad or Higher',\n",
       "       'Diploma', '10th pass', 'GRADUATE', 'less than 10th pass', 'Other'],\n",
       "      dtype=object)"
      ]
     },
     "execution_count": 109,
     "metadata": {},
     "output_type": "execute_result"
    }
   ],
   "source": [
    "\n",
    "train['Loanee_Education'].unique()"
   ]
  },
  {
   "cell_type": "code",
   "execution_count": 110,
   "metadata": {},
   "outputs": [],
   "source": [
    "train['Loanee_Education'].replace({'GRADUATE':'Graduate'},inplace=True)\n",
    "train['Loanee_Education'].replace({'Graduatee':'Graduate'},inplace=True)"
   ]
  },
  {
   "cell_type": "code",
   "execution_count": 111,
   "metadata": {},
   "outputs": [
    {
     "data": {
      "text/plain": [
       "array(['SALARIED', 'DOCTOR', 'STUDENT', 'RETIRED', 'PUBLIC SERVICE',\n",
       "       'BUSINESS', 'Others', 'SELF EMPLOYED', nan, 'AGRICULTURE',\n",
       "       'HOUSEWIFE'], dtype=object)"
      ]
     },
     "execution_count": 111,
     "metadata": {},
     "output_type": "execute_result"
    }
   ],
   "source": [
    "train['Loanee_Occupation'].unique()"
   ]
  },
  {
   "cell_type": "code",
   "execution_count": 112,
   "metadata": {},
   "outputs": [],
   "source": [
    "train['Loanee_Occupation'].replace({np.nan:'Others'},inplace=True)"
   ]
  },
  {
   "cell_type": "code",
   "execution_count": 113,
   "metadata": {},
   "outputs": [
    {
     "data": {
      "text/plain": [
       "array(['12th pass', 'Graduate', 'Post Grad or Higher', 'Diploma',\n",
       "       '10th pass', 'less than 10th pass', 'Other'], dtype=object)"
      ]
     },
     "execution_count": 113,
     "metadata": {},
     "output_type": "execute_result"
    }
   ],
   "source": [
    "train['Loanee_Education'].unique()"
   ]
  },
  {
   "cell_type": "code",
   "execution_count": 114,
   "metadata": {},
   "outputs": [],
   "source": [
    "train.dropna(subset = ['Credit_line'], inplace = True)"
   ]
  },
  {
   "cell_type": "code",
   "execution_count": 115,
   "metadata": {},
   "outputs": [
    {
     "data": {
      "text/plain": [
       "0"
      ]
     },
     "execution_count": 115,
     "metadata": {},
     "output_type": "execute_result"
    }
   ],
   "source": [
    "train['Past_year_overdue'].isnull().sum()"
   ]
  },
  {
   "cell_type": "code",
   "execution_count": 116,
   "metadata": {},
   "outputs": [
    {
     "data": {
      "text/plain": [
       "0"
      ]
     },
     "execution_count": 116,
     "metadata": {},
     "output_type": "execute_result"
    }
   ],
   "source": [
    "train['Credit_line'].isnull().sum()"
   ]
  },
  {
   "cell_type": "code",
   "execution_count": 117,
   "metadata": {},
   "outputs": [],
   "source": [
    "train['EMI_Payment_Mode'].replace({'M!':'M1'},inplace=True)"
   ]
  },
  {
   "cell_type": "markdown",
   "metadata": {},
   "source": [
    "## Outlier Detection"
   ]
  },
  {
   "cell_type": "code",
   "execution_count": 118,
   "metadata": {},
   "outputs": [
    {
     "name": "stderr",
     "output_type": "stream",
     "text": [
      "C:\\Users\\tiwar\\anaconda3\\lib\\site-packages\\seaborn\\_decorators.py:36: FutureWarning: Pass the following variable as a keyword arg: x. From version 0.12, the only valid positional argument will be `data`, and passing other arguments without an explicit keyword will result in an error or misinterpretation.\n",
      "  warnings.warn(\n"
     ]
    },
    {
     "data": {
      "text/plain": [
       "<AxesSubplot:xlabel='Loanee_Annual_Income'>"
      ]
     },
     "execution_count": 118,
     "metadata": {},
     "output_type": "execute_result"
    },
    {
     "data": {
      "image/png": "[encoded data removed]",
      "text/plain": [
       "<Figure size 432x288 with 1 Axes>"
      ]
     },
     "metadata": {
      "needs_background": "light"
     },
     "output_type": "display_data"
    }
   ],
   "source": [
    "sns.boxplot(train['Loanee_Annual_Income'])"
   ]
  },
  {
   "cell_type": "code",
   "execution_count": 119,
   "metadata": {},
   "outputs": [
    {
     "name": "stderr",
     "output_type": "stream",
     "text": [
      "C:\\Users\\tiwar\\anaconda3\\lib\\site-packages\\seaborn\\_decorators.py:36: FutureWarning: Pass the following variable as a keyword arg: x. From version 0.12, the only valid positional argument will be `data`, and passing other arguments without an explicit keyword will result in an error or misinterpretation.\n",
      "  warnings.warn(\n"
     ]
    },
    {
     "data": {
      "text/plain": [
       "<AxesSubplot:xlabel='EMI_Amount'>"
      ]
     },
     "execution_count": 119,
     "metadata": {},
     "output_type": "execute_result"
    },
    {
     "data": {
      "image/png": "[encoded data removed]",
      "text/plain": [
       "<Figure size 432x288 with 1 Axes>"
      ]
     },
     "metadata": {
      "needs_background": "light"
     },
     "output_type": "display_data"
    }
   ],
   "source": [
    "sns.boxplot(train['EMI_Amount'])"
   ]
  },
  {
   "cell_type": "code",
   "execution_count": 120,
   "metadata": {},
   "outputs": [
    {
     "name": "stderr",
     "output_type": "stream",
     "text": [
      "C:\\Users\\tiwar\\anaconda3\\lib\\site-packages\\seaborn\\_decorators.py:36: FutureWarning: Pass the following variable as a keyword arg: x. From version 0.12, the only valid positional argument will be `data`, and passing other arguments without an explicit keyword will result in an error or misinterpretation.\n",
      "  warnings.warn(\n"
     ]
    },
    {
     "data": {
      "text/plain": [
       "<AxesSubplot:xlabel='Loan_Amount'>"
      ]
     },
     "execution_count": 120,
     "metadata": {},
     "output_type": "execute_result"
    },
    {
     "data": {
      "image/png": "[encoded data removed]",
      "text/plain": [
       "<Figure size 432x288 with 1 Axes>"
      ]
     },
     "metadata": {
      "needs_background": "light"
     },
     "output_type": "display_data"
    }
   ],
   "source": [
    "sns.boxplot(train['Loan_Amount'])"
   ]
  },
  {
   "cell_type": "code",
   "execution_count": 121,
   "metadata": {},
   "outputs": [
    {
     "name": "stderr",
     "output_type": "stream",
     "text": [
      "C:\\Users\\tiwar\\anaconda3\\lib\\site-packages\\seaborn\\_decorators.py:36: FutureWarning: Pass the following variable as a keyword arg: x. From version 0.12, the only valid positional argument will be `data`, and passing other arguments without an explicit keyword will result in an error or misinterpretation.\n",
      "  warnings.warn(\n"
     ]
    },
    {
     "data": {
      "text/plain": [
       "<AxesSubplot:xlabel='Credit_line'>"
      ]
     },
     "execution_count": 121,
     "metadata": {},
     "output_type": "execute_result"
    },
    {
     "data": {
      "image/png": "[encoded data removed]",
      "text/plain": [
       "<Figure size 432x288 with 1 Axes>"
      ]
     },
     "metadata": {
      "needs_background": "light"
     },
     "output_type": "display_data"
    }
   ],
   "source": [
    "sns.boxplot(train['Credit_line'])"
   ]
  },
  {
   "cell_type": "code",
   "execution_count": 122,
   "metadata": {},
   "outputs": [
    {
     "name": "stderr",
     "output_type": "stream",
     "text": [
      "C:\\Users\\tiwar\\anaconda3\\lib\\site-packages\\seaborn\\_decorators.py:36: FutureWarning: Pass the following variable as a keyword arg: x. From version 0.12, the only valid positional argument will be `data`, and passing other arguments without an explicit keyword will result in an error or misinterpretation.\n",
      "  warnings.warn(\n"
     ]
    },
    {
     "data": {
      "text/plain": [
       "<AxesSubplot:xlabel='Past_year_overdue'>"
      ]
     },
     "execution_count": 122,
     "metadata": {},
     "output_type": "execute_result"
    },
    {
     "data": {
      "image/png": "[encoded data removed]",
      "text/plain": [
       "<Figure size 432x288 with 1 Axes>"
      ]
     },
     "metadata": {
      "needs_background": "light"
     },
     "output_type": "display_data"
    }
   ],
   "source": [
    "sns.boxplot(train['Past_year_overdue'])"
   ]
  },
  {
   "cell_type": "code",
   "execution_count": 123,
   "metadata": {},
   "outputs": [],
   "source": [
    "def remove_outlier(col):\n",
    "    q25 = col.quantile(0.25)\n",
    "    q75 = col.quantile(0.75)\n",
    "    iqr = q75 - q25\n",
    "    cutoff = iqr*1.5\n",
    "    lower = q25 - cutoff\n",
    "    upper = q75 + cutoff\n",
    "    return lower, upper\n",
    "#Remove outliers for Annual Income\n",
    "lower_1, upper_1 = remove_outlier(train.Loanee_Annual_Income)\n",
    "train = train.loc[(train.Loanee_Annual_Income > lower_1) & (train.Loanee_Annual_Income < upper_1)] \n",
    "#Remove outliers for EMI_Amount\n",
    "lower_2, upper_2 = remove_outlier(train.EMI_Amount)\n",
    "train = train.loc[(train.EMI_Amount > lower_2) & (train.EMI_Amount < upper_2)]\n",
    "#Remove outliers for Loan_Amount\n",
    "lower_2, upper_2 = remove_outlier(train.Loan_Amount)\n",
    "train = train.loc[(train.Loan_Amount > lower_2) & (train.Loan_Amount < upper_2)]"
   ]
  },
  {
   "cell_type": "code",
   "execution_count": 124,
   "metadata": {},
   "outputs": [
    {
     "data": {
      "text/plain": [
       "<50L    0.502229\n",
       ">=50    0.497771\n",
       "Name: Loan_Amount_Category, dtype: float64"
      ]
     },
     "execution_count": 124,
     "metadata": {},
     "output_type": "execute_result"
    }
   ],
   "source": [
    "train['Loan_Amount_Category'].value_counts(normalize = True)"
   ]
  },
  {
   "cell_type": "code",
   "execution_count": 125,
   "metadata": {},
   "outputs": [
    {
     "data": {
      "image/png": "[encoded data removed]",
      "text/plain": [
       "<Figure size 432x288 with 1 Axes>"
      ]
     },
     "metadata": {
      "needs_background": "light"
     },
     "output_type": "display_data"
    }
   ],
   "source": [
    "sns.countplot(x='Loan_Amount_Category',data=train, color='blue', saturation=0.5)\n",
    "plt.title('Representation of count of Loan Amount Category')\n",
    "plt.show()"
   ]
  },
  {
   "cell_type": "code",
   "execution_count": 126,
   "metadata": {},
   "outputs": [],
   "source": [
    "##The number of Loanees with loan amount greater the 50L is more than the number of Loanees with Loan amount less than 50L"
   ]
  },
  {
   "cell_type": "code",
   "execution_count": 127,
   "metadata": {},
   "outputs": [],
   "source": [
    "##Removing unwanted columns from the dataset for analysis\n",
    "train = train.drop(['Type_of_Default','Loan_ID', 'Client_ID','Loan_Application_Date'],axis=1)"
   ]
  },
  {
   "cell_type": "code",
   "execution_count": 128,
   "metadata": {},
   "outputs": [
    {
     "data": {
      "text/html": [
       "<div>\n",
       "<style scoped>\n",
       "    .dataframe tbody tr th:only-of-type {\n",
       "        vertical-align: middle;\n",
       "    }\n",
       "\n",
       "    .dataframe tbody tr th {\n",
       "        vertical-align: top;\n",
       "    }\n",
       "\n",
       "    .dataframe thead th {\n",
       "        text-align: right;\n",
       "    }\n",
       "</style>\n",
       "<table border=\"1\" class=\"dataframe\">\n",
       "  <thead>\n",
       "    <tr style=\"text-align: right;\">\n",
       "      <th></th>\n",
       "      <th>Loanee_Gender</th>\n",
       "      <th>Loanee_Annual_Income</th>\n",
       "      <th>Loanee_Education</th>\n",
       "      <th>Loanee_Occupation</th>\n",
       "      <th>Loanee_Marital_Status</th>\n",
       "      <th>Credit_Criteria</th>\n",
       "      <th>Loanee_Third_Party_Credit_Rating</th>\n",
       "      <th>Loan_Type</th>\n",
       "      <th>Loan_Amount</th>\n",
       "      <th>Loan_Amount_Category</th>\n",
       "      <th>Credit_line</th>\n",
       "      <th>Past_year_overdue</th>\n",
       "      <th>EMI_Payment_Mode</th>\n",
       "      <th>Bank_Division</th>\n",
       "      <th>EMI_Amount</th>\n",
       "      <th>Default_Flag</th>\n",
       "    </tr>\n",
       "  </thead>\n",
       "  <tbody>\n",
       "    <tr>\n",
       "      <th>0</th>\n",
       "      <td>M</td>\n",
       "      <td>300000.0</td>\n",
       "      <td>12th pass</td>\n",
       "      <td>SALARIED</td>\n",
       "      <td>M</td>\n",
       "      <td>Yes</td>\n",
       "      <td>Red</td>\n",
       "      <td>A</td>\n",
       "      <td>300000</td>\n",
       "      <td>&lt;50L</td>\n",
       "      <td>10.0</td>\n",
       "      <td>1.0</td>\n",
       "      <td>M1</td>\n",
       "      <td>X1</td>\n",
       "      <td>3600</td>\n",
       "      <td>No</td>\n",
       "    </tr>\n",
       "    <tr>\n",
       "      <th>3</th>\n",
       "      <td>M</td>\n",
       "      <td>400000.0</td>\n",
       "      <td>Graduate</td>\n",
       "      <td>SALARIED</td>\n",
       "      <td>M</td>\n",
       "      <td>Yes</td>\n",
       "      <td>Amber</td>\n",
       "      <td>A</td>\n",
       "      <td>2500000</td>\n",
       "      <td>&lt;50L</td>\n",
       "      <td>25.0</td>\n",
       "      <td>21.0</td>\n",
       "      <td>M2</td>\n",
       "      <td>X3</td>\n",
       "      <td>4993</td>\n",
       "      <td>No</td>\n",
       "    </tr>\n",
       "    <tr>\n",
       "      <th>4</th>\n",
       "      <td>M</td>\n",
       "      <td>1500000.0</td>\n",
       "      <td>Post Grad or Higher</td>\n",
       "      <td>SALARIED</td>\n",
       "      <td>M</td>\n",
       "      <td>Yes</td>\n",
       "      <td>Red</td>\n",
       "      <td>A</td>\n",
       "      <td>5000000</td>\n",
       "      <td>&gt;=50</td>\n",
       "      <td>25.0</td>\n",
       "      <td>21.0</td>\n",
       "      <td>M2</td>\n",
       "      <td>X1</td>\n",
       "      <td>18914</td>\n",
       "      <td>No</td>\n",
       "    </tr>\n",
       "    <tr>\n",
       "      <th>6</th>\n",
       "      <td>M</td>\n",
       "      <td>72000.0</td>\n",
       "      <td>Graduate</td>\n",
       "      <td>SALARIED</td>\n",
       "      <td>S</td>\n",
       "      <td>Yes</td>\n",
       "      <td>Amber</td>\n",
       "      <td>A</td>\n",
       "      <td>2500000</td>\n",
       "      <td>&lt;50L</td>\n",
       "      <td>30.0</td>\n",
       "      <td>26.0</td>\n",
       "      <td>M1</td>\n",
       "      <td>X4</td>\n",
       "      <td>3660</td>\n",
       "      <td>No</td>\n",
       "    </tr>\n",
       "    <tr>\n",
       "      <th>7</th>\n",
       "      <td>M</td>\n",
       "      <td>180000.0</td>\n",
       "      <td>Post Grad or Higher</td>\n",
       "      <td>SALARIED</td>\n",
       "      <td>S</td>\n",
       "      <td>Yes</td>\n",
       "      <td>Green</td>\n",
       "      <td>A</td>\n",
       "      <td>2000000</td>\n",
       "      <td>&lt;50L</td>\n",
       "      <td>25.0</td>\n",
       "      <td>21.0</td>\n",
       "      <td>M2</td>\n",
       "      <td>X1</td>\n",
       "      <td>4606</td>\n",
       "      <td>No</td>\n",
       "    </tr>\n",
       "    <tr>\n",
       "      <th>...</th>\n",
       "      <td>...</td>\n",
       "      <td>...</td>\n",
       "      <td>...</td>\n",
       "      <td>...</td>\n",
       "      <td>...</td>\n",
       "      <td>...</td>\n",
       "      <td>...</td>\n",
       "      <td>...</td>\n",
       "      <td>...</td>\n",
       "      <td>...</td>\n",
       "      <td>...</td>\n",
       "      <td>...</td>\n",
       "      <td>...</td>\n",
       "      <td>...</td>\n",
       "      <td>...</td>\n",
       "      <td>...</td>\n",
       "    </tr>\n",
       "    <tr>\n",
       "      <th>397297</th>\n",
       "      <td>M</td>\n",
       "      <td>280000.0</td>\n",
       "      <td>12th pass</td>\n",
       "      <td>AGRICULTURE</td>\n",
       "      <td>M</td>\n",
       "      <td>Yes</td>\n",
       "      <td>Green</td>\n",
       "      <td>B</td>\n",
       "      <td>250000</td>\n",
       "      <td>&lt;50L</td>\n",
       "      <td>5.0</td>\n",
       "      <td>1.0</td>\n",
       "      <td>M2</td>\n",
       "      <td>X4</td>\n",
       "      <td>3341</td>\n",
       "      <td>No</td>\n",
       "    </tr>\n",
       "    <tr>\n",
       "      <th>397298</th>\n",
       "      <td>M</td>\n",
       "      <td>250000.0</td>\n",
       "      <td>less than 10th pass</td>\n",
       "      <td>AGRICULTURE</td>\n",
       "      <td>M</td>\n",
       "      <td>Yes</td>\n",
       "      <td>Red</td>\n",
       "      <td>B</td>\n",
       "      <td>200000</td>\n",
       "      <td>&lt;50L</td>\n",
       "      <td>5.0</td>\n",
       "      <td>1.0</td>\n",
       "      <td>M2</td>\n",
       "      <td>X4</td>\n",
       "      <td>2812</td>\n",
       "      <td>No</td>\n",
       "    </tr>\n",
       "    <tr>\n",
       "      <th>397299</th>\n",
       "      <td>M</td>\n",
       "      <td>200000.0</td>\n",
       "      <td>less than 10th pass</td>\n",
       "      <td>AGRICULTURE</td>\n",
       "      <td>M</td>\n",
       "      <td>Yes</td>\n",
       "      <td>Green</td>\n",
       "      <td>B</td>\n",
       "      <td>300000</td>\n",
       "      <td>&lt;50L</td>\n",
       "      <td>5.0</td>\n",
       "      <td>1.0</td>\n",
       "      <td>M2</td>\n",
       "      <td>X4</td>\n",
       "      <td>4672</td>\n",
       "      <td>No</td>\n",
       "    </tr>\n",
       "    <tr>\n",
       "      <th>397300</th>\n",
       "      <td>M</td>\n",
       "      <td>800000.0</td>\n",
       "      <td>Graduate</td>\n",
       "      <td>AGRICULTURE</td>\n",
       "      <td>M</td>\n",
       "      <td>Yes</td>\n",
       "      <td>Red</td>\n",
       "      <td>B</td>\n",
       "      <td>1500000</td>\n",
       "      <td>&lt;50L</td>\n",
       "      <td>5.0</td>\n",
       "      <td>1.0</td>\n",
       "      <td>M2</td>\n",
       "      <td>X4</td>\n",
       "      <td>9029</td>\n",
       "      <td>Yes</td>\n",
       "    </tr>\n",
       "    <tr>\n",
       "      <th>397301</th>\n",
       "      <td>M</td>\n",
       "      <td>250000.0</td>\n",
       "      <td>Graduate</td>\n",
       "      <td>AGRICULTURE</td>\n",
       "      <td>M</td>\n",
       "      <td>Yes</td>\n",
       "      <td>Green</td>\n",
       "      <td>B</td>\n",
       "      <td>360000</td>\n",
       "      <td>&lt;50L</td>\n",
       "      <td>5.0</td>\n",
       "      <td>1.0</td>\n",
       "      <td>M2</td>\n",
       "      <td>X4</td>\n",
       "      <td>7951</td>\n",
       "      <td>No</td>\n",
       "    </tr>\n",
       "  </tbody>\n",
       "</table>\n",
       "<p>282686 rows × 16 columns</p>\n",
       "</div>"
      ],
      "text/plain": [
       "       Loanee_Gender  Loanee_Annual_Income     Loanee_Education  \\\n",
       "0                  M              300000.0            12th pass   \n",
       "3                  M              400000.0             Graduate   \n",
       "4                  M             1500000.0  Post Grad or Higher   \n",
       "6                  M               72000.0             Graduate   \n",
       "7                  M              180000.0  Post Grad or Higher   \n",
       "...              ...                   ...                  ...   \n",
       "397297             M              280000.0            12th pass   \n",
       "397298             M              250000.0  less than 10th pass   \n",
       "397299             M              200000.0  less than 10th pass   \n",
       "397300             M              800000.0             Graduate   \n",
       "397301             M              250000.0             Graduate   \n",
       "\n",
       "       Loanee_Occupation Loanee_Marital_Status Credit_Criteria  \\\n",
       "0               SALARIED                     M             Yes   \n",
       "3               SALARIED                     M             Yes   \n",
       "4               SALARIED                     M             Yes   \n",
       "6               SALARIED                     S             Yes   \n",
       "7               SALARIED                     S             Yes   \n",
       "...                  ...                   ...             ...   \n",
       "397297       AGRICULTURE                     M             Yes   \n",
       "397298       AGRICULTURE                     M             Yes   \n",
       "397299       AGRICULTURE                     M             Yes   \n",
       "397300       AGRICULTURE                     M             Yes   \n",
       "397301       AGRICULTURE                     M             Yes   \n",
       "\n",
       "       Loanee_Third_Party_Credit_Rating Loan_Type  Loan_Amount  \\\n",
       "0                                   Red         A       300000   \n",
       "3                                 Amber         A      2500000   \n",
       "4                                   Red         A      5000000   \n",
       "6                                 Amber         A      2500000   \n",
       "7                                 Green         A      2000000   \n",
       "...                                 ...       ...          ...   \n",
       "397297                            Green         B       250000   \n",
       "397298                              Red         B       200000   \n",
       "397299                            Green         B       300000   \n",
       "397300                              Red         B      1500000   \n",
       "397301                            Green         B       360000   \n",
       "\n",
       "       Loan_Amount_Category  Credit_line  Past_year_overdue EMI_Payment_Mode  \\\n",
       "0                      <50L         10.0                1.0               M1   \n",
       "3                      <50L         25.0               21.0               M2   \n",
       "4                      >=50         25.0               21.0               M2   \n",
       "6                      <50L         30.0               26.0               M1   \n",
       "7                      <50L         25.0               21.0               M2   \n",
       "...                     ...          ...                ...              ...   \n",
       "397297                 <50L          5.0                1.0               M2   \n",
       "397298                 <50L          5.0                1.0               M2   \n",
       "397299                 <50L          5.0                1.0               M2   \n",
       "397300                 <50L          5.0                1.0               M2   \n",
       "397301                 <50L          5.0                1.0               M2   \n",
       "\n",
       "       Bank_Division  EMI_Amount Default_Flag  \n",
       "0                 X1        3600           No  \n",
       "3                 X3        4993           No  \n",
       "4                 X1       18914           No  \n",
       "6                 X4        3660           No  \n",
       "7                 X1        4606           No  \n",
       "...              ...         ...          ...  \n",
       "397297            X4        3341           No  \n",
       "397298            X4        2812           No  \n",
       "397299            X4        4672           No  \n",
       "397300            X4        9029          Yes  \n",
       "397301            X4        7951           No  \n",
       "\n",
       "[282686 rows x 16 columns]"
      ]
     },
     "execution_count": 128,
     "metadata": {},
     "output_type": "execute_result"
    }
   ],
   "source": [
    "train"
   ]
  },
  {
   "cell_type": "code",
   "execution_count": 129,
   "metadata": {},
   "outputs": [
    {
     "data": {
      "image/png": "[encoded data removed]",
      "text/plain": [
       "<Figure size 432x288 with 1 Axes>"
      ]
     },
     "metadata": {
      "needs_background": "light"
     },
     "output_type": "display_data"
    }
   ],
   "source": [
    "sns.countplot(x='Default_Flag',data=train, color='blue', saturation=0.5)\n",
    "plt.title('Representation of count of Default')\n",
    "plt.show()"
   ]
  },
  {
   "cell_type": "code",
   "execution_count": 130,
   "metadata": {},
   "outputs": [
    {
     "data": {
      "text/html": [
       "<div>\n",
       "<style scoped>\n",
       "    .dataframe tbody tr th:only-of-type {\n",
       "        vertical-align: middle;\n",
       "    }\n",
       "\n",
       "    .dataframe tbody tr th {\n",
       "        vertical-align: top;\n",
       "    }\n",
       "\n",
       "    .dataframe thead th {\n",
       "        text-align: right;\n",
       "    }\n",
       "</style>\n",
       "<table border=\"1\" class=\"dataframe\">\n",
       "  <thead>\n",
       "    <tr style=\"text-align: right;\">\n",
       "      <th>Loan_Amount_Category</th>\n",
       "      <th>&lt;50L</th>\n",
       "      <th>&gt;=50</th>\n",
       "    </tr>\n",
       "    <tr>\n",
       "      <th>Default_Flag</th>\n",
       "      <th></th>\n",
       "      <th></th>\n",
       "    </tr>\n",
       "  </thead>\n",
       "  <tbody>\n",
       "    <tr>\n",
       "      <th>No</th>\n",
       "      <td>141506</td>\n",
       "      <td>140566</td>\n",
       "    </tr>\n",
       "    <tr>\n",
       "      <th>Yes</th>\n",
       "      <td>467</td>\n",
       "      <td>147</td>\n",
       "    </tr>\n",
       "  </tbody>\n",
       "</table>\n",
       "</div>"
      ],
      "text/plain": [
       "Loan_Amount_Category    <50L    >=50\n",
       "Default_Flag                        \n",
       "No                    141506  140566\n",
       "Yes                      467     147"
      ]
     },
     "execution_count": 130,
     "metadata": {},
     "output_type": "execute_result"
    }
   ],
   "source": [
    "crosstable=pd.crosstab(train['Default_Flag'],train['Loan_Amount_Category'])\n",
    "crosstable"
   ]
  },
  {
   "cell_type": "code",
   "execution_count": 131,
   "metadata": {},
   "outputs": [
    {
     "data": {
      "text/plain": [
       "(<Figure size 432x288 with 3 Axes>,\n",
       " {('<50L', 'No'): (0.0, 0.0, 0.4997299712991329, 0.9933993111272643),\n",
       "  ('<50L', 'Yes'): (0.0,\n",
       "   0.996721570263477,\n",
       "   0.4997299712991329,\n",
       "   0.0032784297365230247),\n",
       "  ('>=50', 'No'): (0.5047050956772423,\n",
       "   0.0,\n",
       "   0.49529490432275775,\n",
       "   0.9956365319640624),\n",
       "  ('>=50', 'Yes'): (0.5047050956772423,\n",
       "   0.9989587911002752,\n",
       "   0.49529490432275775,\n",
       "   0.0010412088997248357)})"
      ]
     },
     "execution_count": 131,
     "metadata": {},
     "output_type": "execute_result"
    },
    {
     "data": {
      "image/png": "[encoded data removed]",
      "text/plain": [
       "<Figure size 432x288 with 3 Axes>"
      ]
     },
     "metadata": {
      "needs_background": "light"
     },
     "output_type": "display_data"
    }
   ],
   "source": [
    "props={}\n",
    "props[('<50L','Yes')]={'facecolor':'red', 'edgecolor':'white'}\n",
    "props[('<50L','No')]={'facecolor':'red', 'edgecolor':'white'}\n",
    "props[('>=50','Yes')]={'facecolor':'xkcd:aqua','edgecolor':'white'}\n",
    "props[('>=50','No')]=        {'facecolor':'xkcd:aqua','edgecolor':'white'}\n",
    "labelizer=lambda k:{('<50L','Yes'):357,('>=50','Yes'):31,('<50L','No'):130,('>=50','No'):80}[k]\n",
    "mosaic(train,['Loan_Amount_Category','Default_Flag'], labelizer=labelizer ,properties=props)"
   ]
  },
  {
   "cell_type": "code",
   "execution_count": 132,
   "metadata": {},
   "outputs": [
    {
     "data": {
      "image/png": "[encoded data removed]",
      "text/plain": [
       "<Figure size 1296x1080 with 2 Axes>"
      ]
     },
     "metadata": {
      "needs_background": "light"
     },
     "output_type": "display_data"
    }
   ],
   "source": [
    "corr = X.corr()\n",
    "plt.figure(figsize = (18,15))\n",
    "sns.heatmap(corr, annot = True, vmin = -1.0, cmap = 'mako')\n",
    "plt.title('Correlation Heatmap')\n",
    "plt.show()"
   ]
  },
  {
   "cell_type": "markdown",
   "metadata": {},
   "source": [
    "## Label Encoding"
   ]
  },
  {
   "cell_type": "code",
   "execution_count": 137,
   "metadata": {},
   "outputs": [
    {
     "data": {
      "text/html": [
       "<div>\n",
       "<style scoped>\n",
       "    .dataframe tbody tr th:only-of-type {\n",
       "        vertical-align: middle;\n",
       "    }\n",
       "\n",
       "    .dataframe tbody tr th {\n",
       "        vertical-align: top;\n",
       "    }\n",
       "\n",
       "    .dataframe thead th {\n",
       "        text-align: right;\n",
       "    }\n",
       "</style>\n",
       "<table border=\"1\" class=\"dataframe\">\n",
       "  <thead>\n",
       "    <tr style=\"text-align: right;\">\n",
       "      <th></th>\n",
       "      <th>Loanee_Gender</th>\n",
       "      <th>Loanee_Annual_Income</th>\n",
       "      <th>Loanee_Education</th>\n",
       "      <th>Loanee_Occupation</th>\n",
       "      <th>Loanee_Marital_Status</th>\n",
       "      <th>Credit_Criteria</th>\n",
       "      <th>Loanee_Third_Party_Credit_Rating</th>\n",
       "      <th>Loan_Type</th>\n",
       "      <th>Loan_Amount</th>\n",
       "      <th>Loan_Amount_Category</th>\n",
       "      <th>Credit_line</th>\n",
       "      <th>Past_year_overdue</th>\n",
       "      <th>EMI_Payment_Mode</th>\n",
       "      <th>Bank_Division</th>\n",
       "      <th>EMI_Amount</th>\n",
       "      <th>Default_Flag</th>\n",
       "    </tr>\n",
       "  </thead>\n",
       "  <tbody>\n",
       "    <tr>\n",
       "      <th>0</th>\n",
       "      <td>1</td>\n",
       "      <td>300000.0</td>\n",
       "      <td>1</td>\n",
       "      <td>7</td>\n",
       "      <td>1</td>\n",
       "      <td>1</td>\n",
       "      <td>2</td>\n",
       "      <td>0</td>\n",
       "      <td>300000</td>\n",
       "      <td>0</td>\n",
       "      <td>10.0</td>\n",
       "      <td>1.0</td>\n",
       "      <td>0</td>\n",
       "      <td>0</td>\n",
       "      <td>3600</td>\n",
       "      <td>No</td>\n",
       "    </tr>\n",
       "    <tr>\n",
       "      <th>3</th>\n",
       "      <td>1</td>\n",
       "      <td>400000.0</td>\n",
       "      <td>3</td>\n",
       "      <td>7</td>\n",
       "      <td>1</td>\n",
       "      <td>1</td>\n",
       "      <td>0</td>\n",
       "      <td>0</td>\n",
       "      <td>2500000</td>\n",
       "      <td>0</td>\n",
       "      <td>25.0</td>\n",
       "      <td>21.0</td>\n",
       "      <td>1</td>\n",
       "      <td>3</td>\n",
       "      <td>4993</td>\n",
       "      <td>No</td>\n",
       "    </tr>\n",
       "    <tr>\n",
       "      <th>4</th>\n",
       "      <td>1</td>\n",
       "      <td>1500000.0</td>\n",
       "      <td>5</td>\n",
       "      <td>7</td>\n",
       "      <td>1</td>\n",
       "      <td>1</td>\n",
       "      <td>2</td>\n",
       "      <td>0</td>\n",
       "      <td>5000000</td>\n",
       "      <td>1</td>\n",
       "      <td>25.0</td>\n",
       "      <td>21.0</td>\n",
       "      <td>1</td>\n",
       "      <td>0</td>\n",
       "      <td>18914</td>\n",
       "      <td>No</td>\n",
       "    </tr>\n",
       "    <tr>\n",
       "      <th>6</th>\n",
       "      <td>1</td>\n",
       "      <td>72000.0</td>\n",
       "      <td>3</td>\n",
       "      <td>7</td>\n",
       "      <td>2</td>\n",
       "      <td>1</td>\n",
       "      <td>0</td>\n",
       "      <td>0</td>\n",
       "      <td>2500000</td>\n",
       "      <td>0</td>\n",
       "      <td>30.0</td>\n",
       "      <td>26.0</td>\n",
       "      <td>0</td>\n",
       "      <td>4</td>\n",
       "      <td>3660</td>\n",
       "      <td>No</td>\n",
       "    </tr>\n",
       "    <tr>\n",
       "      <th>7</th>\n",
       "      <td>1</td>\n",
       "      <td>180000.0</td>\n",
       "      <td>5</td>\n",
       "      <td>7</td>\n",
       "      <td>2</td>\n",
       "      <td>1</td>\n",
       "      <td>1</td>\n",
       "      <td>0</td>\n",
       "      <td>2000000</td>\n",
       "      <td>0</td>\n",
       "      <td>25.0</td>\n",
       "      <td>21.0</td>\n",
       "      <td>1</td>\n",
       "      <td>0</td>\n",
       "      <td>4606</td>\n",
       "      <td>No</td>\n",
       "    </tr>\n",
       "  </tbody>\n",
       "</table>\n",
       "</div>"
      ],
      "text/plain": [
       "   Loanee_Gender  Loanee_Annual_Income  Loanee_Education  Loanee_Occupation  \\\n",
       "0              1              300000.0                 1                  7   \n",
       "3              1              400000.0                 3                  7   \n",
       "4              1             1500000.0                 5                  7   \n",
       "6              1               72000.0                 3                  7   \n",
       "7              1              180000.0                 5                  7   \n",
       "\n",
       "   Loanee_Marital_Status  Credit_Criteria  Loanee_Third_Party_Credit_Rating  \\\n",
       "0                      1                1                                 2   \n",
       "3                      1                1                                 0   \n",
       "4                      1                1                                 2   \n",
       "6                      2                1                                 0   \n",
       "7                      2                1                                 1   \n",
       "\n",
       "   Loan_Type  Loan_Amount  Loan_Amount_Category  Credit_line  \\\n",
       "0          0       300000                     0         10.0   \n",
       "3          0      2500000                     0         25.0   \n",
       "4          0      5000000                     1         25.0   \n",
       "6          0      2500000                     0         30.0   \n",
       "7          0      2000000                     0         25.0   \n",
       "\n",
       "   Past_year_overdue  EMI_Payment_Mode  Bank_Division  EMI_Amount Default_Flag  \n",
       "0                1.0                 0              0        3600           No  \n",
       "3               21.0                 1              3        4993           No  \n",
       "4               21.0                 1              0       18914           No  \n",
       "6               26.0                 0              4        3660           No  \n",
       "7               21.0                 1              0        4606           No  "
      ]
     },
     "execution_count": 137,
     "metadata": {},
     "output_type": "execute_result"
    }
   ],
   "source": [
    "enc = LabelEncoder()\n",
    "train.loc[:,['Loanee_Gender', 'Loanee_Education', 'Loanee_Occupation','Loanee_Marital_Status', 'Credit_Criteria', 'Loanee_Third_Party_Credit_Rating', 'Loan_Type', 'Loan_Amount_Category', 'EMI_Payment_Mode', 'Bank_Division']] = \\\n",
    "train.loc[:,['Loanee_Gender', 'Loanee_Education', 'Loanee_Occupation','Loanee_Marital_Status', 'Credit_Criteria', 'Loanee_Third_Party_Credit_Rating', 'Loan_Type', 'Loan_Amount_Category', 'EMI_Payment_Mode', 'Bank_Division']].apply(enc.fit_transform)\n",
    "train.head()"
   ]
  },
  {
   "cell_type": "markdown",
   "metadata": {},
   "source": [
    "## Dividing the Dataset into 2 parts for training and Validation purpose and select the best model"
   ]
  },
  {
   "cell_type": "code",
   "execution_count": 138,
   "metadata": {},
   "outputs": [],
   "source": [
    "X = train.drop(['Default_Flag'], axis = 1)"
   ]
  },
  {
   "cell_type": "code",
   "execution_count": 139,
   "metadata": {},
   "outputs": [],
   "source": [
    "Y = train.iloc[:,[-1]]"
   ]
  },
  {
   "cell_type": "code",
   "execution_count": 140,
   "metadata": {},
   "outputs": [],
   "source": [
    "X_train, X_val, Y_train, Y_val = \\\n",
    "train_test_split(X,Y,test_size = 0.3, random_state = 10)"
   ]
  },
  {
   "cell_type": "code",
   "execution_count": 141,
   "metadata": {},
   "outputs": [],
   "source": [
    "from sklearn.linear_model import LogisticRegression"
   ]
  },
  {
   "cell_type": "code",
   "execution_count": 142,
   "metadata": {},
   "outputs": [
    {
     "name": "stderr",
     "output_type": "stream",
     "text": [
      "C:\\Users\\tiwar\\anaconda3\\lib\\site-packages\\sklearn\\utils\\validation.py:985: DataConversionWarning: A column-vector y was passed when a 1d array was expected. Please change the shape of y to (n_samples, ), for example using ravel().\n",
      "  y = column_or_1d(y, warn=True)\n"
     ]
    },
    {
     "data": {
      "text/plain": [
       "LogisticRegression()"
      ]
     },
     "execution_count": 142,
     "metadata": {},
     "output_type": "execute_result"
    }
   ],
   "source": [
    "linear_model = LogisticRegression()\n",
    "linear_model.fit(X_train, Y_train)"
   ]
  },
  {
   "cell_type": "code",
   "execution_count": 143,
   "metadata": {},
   "outputs": [],
   "source": [
    "##Predictions\n",
    "predictions = linear_model.predict(X_val)"
   ]
  },
  {
   "cell_type": "code",
   "execution_count": 144,
   "metadata": {},
   "outputs": [],
   "source": [
    "df = pd.DataFrame(predictions)"
   ]
  },
  {
   "cell_type": "code",
   "execution_count": 145,
   "metadata": {},
   "outputs": [
    {
     "data": {
      "text/plain": [
       "No    1.0\n",
       "dtype: float64"
      ]
     },
     "execution_count": 145,
     "metadata": {},
     "output_type": "execute_result"
    }
   ],
   "source": [
    "df.value_counts(normalize=True)"
   ]
  },
  {
   "cell_type": "markdown",
   "metadata": {},
   "source": [
    "## Oversampling the dataset using Smote"
   ]
  },
  {
   "cell_type": "code",
   "execution_count": 146,
   "metadata": {},
   "outputs": [],
   "source": [
    "from imblearn.over_sampling import SMOTE"
   ]
  },
  {
   "cell_type": "code",
   "execution_count": 147,
   "metadata": {},
   "outputs": [],
   "source": [
    "smote = SMOTE()"
   ]
  },
  {
   "cell_type": "code",
   "execution_count": 148,
   "metadata": {},
   "outputs": [],
   "source": [
    "X_train_smote,Y_train_smote = smote.fit_sample(X_train, Y_train)"
   ]
  },
  {
   "cell_type": "code",
   "execution_count": 149,
   "metadata": {},
   "outputs": [
    {
     "name": "stderr",
     "output_type": "stream",
     "text": [
      "C:\\Users\\tiwar\\anaconda3\\lib\\site-packages\\sklearn\\utils\\validation.py:985: DataConversionWarning: A column-vector y was passed when a 1d array was expected. Please change the shape of y to (n_samples, ), for example using ravel().\n",
      "  y = column_or_1d(y, warn=True)\n"
     ]
    }
   ],
   "source": [
    "linear_model = LogisticRegression()\n",
    "linear_model.fit(X_train_smote, Y_train_smote)\n",
    "predict_smote = linear_model.predict(X_val)\n",
    "df_smote = pd.DataFrame(predict_smote)"
   ]
  },
  {
   "cell_type": "code",
   "execution_count": 150,
   "metadata": {},
   "outputs": [
    {
     "data": {
      "text/plain": [
       "No     0.664281\n",
       "Yes    0.335719\n",
       "dtype: float64"
      ]
     },
     "execution_count": 150,
     "metadata": {},
     "output_type": "execute_result"
    }
   ],
   "source": [
    "df_smote.value_counts(normalize=True)"
   ]
  },
  {
   "cell_type": "code",
   "execution_count": null,
   "metadata": {},
   "outputs": [],
   "source": []
  },
  {
   "cell_type": "code",
   "execution_count": 151,
   "metadata": {},
   "outputs": [
    {
     "name": "stdout",
     "output_type": "stream",
     "text": [
      "The accuracy of gini model is: 0.6650944508643256\n"
     ]
    }
   ],
   "source": [
    "acc = score(Y_val,predict_smote)\n",
    "print(\"The accuracy of gini model is:\", acc)"
   ]
  },
  {
   "cell_type": "code",
   "execution_count": 152,
   "metadata": {},
   "outputs": [
    {
     "name": "stdout",
     "output_type": "stream",
     "text": [
      "[[56283 28350]\n",
      " [   52   121]]\n"
     ]
    }
   ],
   "source": [
    "matrix = confusion_matrix(Y_val, predict_smote)\n",
    "print(matrix)"
   ]
  },
  {
   "cell_type": "code",
   "execution_count": 153,
   "metadata": {},
   "outputs": [
    {
     "name": "stdout",
     "output_type": "stream",
     "text": [
      "              precision    recall  f1-score   support\n",
      "\n",
      "          No       1.00      0.67      0.80     84633\n",
      "         Yes       0.00      0.70      0.01       173\n",
      "\n",
      "    accuracy                           0.67     84806\n",
      "   macro avg       0.50      0.68      0.40     84806\n",
      "weighted avg       1.00      0.67      0.80     84806\n",
      "\n"
     ]
    }
   ],
   "source": [
    "report = classification_report(Y_val, predict_smote)\n",
    "print(report)"
   ]
  },
  {
   "cell_type": "code",
   "execution_count": 154,
   "metadata": {},
   "outputs": [],
   "source": [
    "metrics = pd.DataFrame(index = ['accuracy', 'precision', 'recall'], columns = ['LogisticReg', 'DecsiontreeG', 'DecisionTreeE', 'RF', 'XGB'])"
   ]
  },
  {
   "cell_type": "code",
   "execution_count": 155,
   "metadata": {},
   "outputs": [],
   "source": [
    "metrics.loc['precision','Logistic_Reg'] = precision_score(y_pred = predict_smote, y_true = Y_val, pos_label='No')\n",
    "metrics.loc['accuracy','Logistic_Reg'] = accuracy_score(y_pred = predict_smote, y_true = Y_val)\n",
    "metrics.loc['recall','Logistic_Reg'] = recall_score(y_pred = predict_smote, y_true = Y_val, pos_label='No')"
   ]
  },
  {
   "cell_type": "markdown",
   "metadata": {},
   "source": [
    "## Decision Tree Classifier"
   ]
  },
  {
   "cell_type": "code",
   "execution_count": 156,
   "metadata": {},
   "outputs": [],
   "source": [
    "from sklearn.tree import DecisionTreeClassifier\n",
    "from sklearn import tree"
   ]
  },
  {
   "cell_type": "code",
   "execution_count": 157,
   "metadata": {},
   "outputs": [
    {
     "name": "stdout",
     "output_type": "stream",
     "text": [
      "The accuracy of gini model is: 0.9955427682003631\n",
      "[[84426   207]\n",
      " [  171     2]]\n",
      "              precision    recall  f1-score   support\n",
      "\n",
      "          No       1.00      1.00      1.00     84633\n",
      "         Yes       0.01      0.01      0.01       173\n",
      "\n",
      "    accuracy                           1.00     84806\n",
      "   macro avg       0.50      0.50      0.50     84806\n",
      "weighted avg       1.00      1.00      1.00     84806\n",
      "\n"
     ]
    }
   ],
   "source": [
    "model = tree.DecisionTreeClassifier(criterion = 'gini')\n",
    "model.fit(X_train, Y_train)\n",
    "\n",
    "pred = model.predict(X_val)\n",
    "acc = score(Y_val,pred)\n",
    "print(\"The accuracy of gini model is:\", acc)\n",
    "\n",
    "matrix = confusion_matrix(Y_val, pred)\n",
    "print(matrix)\n",
    "\n",
    "report = classification_report(Y_val, pred)\n",
    "print(report)"
   ]
  },
  {
   "cell_type": "code",
   "execution_count": 158,
   "metadata": {},
   "outputs": [],
   "source": [
    "metrics.loc['precision','DecsiontreeG'] = precision_score(y_pred = pred, y_true = Y_val, pos_label='No')\n",
    "metrics.loc['accuracy','DecsiontreeG'] = accuracy_score(y_pred = pred, y_true = Y_val)\n",
    "metrics.loc['recall','DecsiontreeG'] = recall_score(y_pred = pred, y_true = Y_val, pos_label='No')"
   ]
  },
  {
   "cell_type": "code",
   "execution_count": 159,
   "metadata": {},
   "outputs": [
    {
     "name": "stdout",
     "output_type": "stream",
     "text": [
      "The accuracy of gini model is: 0.9955427682003631\n",
      "[[84426   207]\n",
      " [  171     2]]\n",
      "              precision    recall  f1-score   support\n",
      "\n",
      "          No       1.00      1.00      1.00     84633\n",
      "         Yes       0.01      0.01      0.01       173\n",
      "\n",
      "    accuracy                           1.00     84806\n",
      "   macro avg       0.50      0.50      0.50     84806\n",
      "weighted avg       1.00      1.00      1.00     84806\n",
      "\n"
     ]
    }
   ],
   "source": [
    "model = tree.DecisionTreeClassifier(criterion = 'entropy')\n",
    "model.fit(X_train, Y_train)\n",
    "\n",
    "pred1 = model.predict(X_val)\n",
    "acc = score(Y_val,pred)\n",
    "print(\"The accuracy of gini model is:\", acc)\n",
    "\n",
    "matrix = confusion_matrix(Y_val, pred)\n",
    "print(matrix)\n",
    "\n",
    "report = classification_report(Y_val, pred)\n",
    "print(report)"
   ]
  },
  {
   "cell_type": "code",
   "execution_count": 160,
   "metadata": {},
   "outputs": [],
   "source": [
    "metrics.loc['precision','DecsiontreeE'] = precision_score(y_pred = pred1, y_true = Y_val, pos_label='No')\n",
    "metrics.loc['accuracy','DecsiontreeE'] = accuracy_score(y_pred = pred1, y_true = Y_val)\n",
    "metrics.loc['recall','DecsiontreeE'] = recall_score(y_pred = pred1, y_true = Y_val, pos_label='No')"
   ]
  },
  {
   "cell_type": "code",
   "execution_count": 161,
   "metadata": {},
   "outputs": [],
   "source": [
    "##Random Forest"
   ]
  },
  {
   "cell_type": "code",
   "execution_count": 162,
   "metadata": {},
   "outputs": [
    {
     "name": "stderr",
     "output_type": "stream",
     "text": [
      "<ipython-input-162-cc91752bceff>:3: DataConversionWarning: A column-vector y was passed when a 1d array was expected. Please change the shape of y to (n_samples,), for example using ravel().\n",
      "  clf_rf.fit(X_train_smote, Y_train_smote)\n"
     ]
    },
    {
     "data": {
      "text/plain": [
       "No     0.997052\n",
       "Yes    0.002948\n",
       "dtype: float64"
      ]
     },
     "execution_count": 162,
     "metadata": {},
     "output_type": "execute_result"
    }
   ],
   "source": [
    "from sklearn.ensemble import RandomForestClassifier\n",
    "clf_rf = RandomForestClassifier()\n",
    "clf_rf.fit(X_train_smote, Y_train_smote)\n",
    "predict_smote_rf = clf_rf.predict(X_val)\n",
    "df_smote_rf = pd.DataFrame(predict_smote_rf)\n",
    "df_smote_rf.value_counts(normalize=True)"
   ]
  },
  {
   "cell_type": "code",
   "execution_count": 163,
   "metadata": {},
   "outputs": [
    {
     "name": "stdout",
     "output_type": "stream",
     "text": [
      "The accuracy of Random Forest model is: 0.9950828950781784\n",
      "[[84386   247]\n",
      " [  170     3]]\n",
      "              precision    recall  f1-score   support\n",
      "\n",
      "          No       1.00      1.00      1.00     84633\n",
      "         Yes       0.01      0.02      0.01       173\n",
      "\n",
      "    accuracy                           1.00     84806\n",
      "   macro avg       0.50      0.51      0.51     84806\n",
      "weighted avg       1.00      1.00      1.00     84806\n",
      "\n"
     ]
    }
   ],
   "source": [
    "acc = score(Y_val,predict_smote_rf)\n",
    "print(\"The accuracy of Random Forest model is:\", acc)\n",
    "matrix = confusion_matrix(Y_val, predict_smote_rf)\n",
    "print(matrix)\n",
    "report = classification_report(Y_val, predict_smote_rf)\n",
    "print(report)"
   ]
  },
  {
   "cell_type": "code",
   "execution_count": 164,
   "metadata": {},
   "outputs": [],
   "source": [
    "metrics.loc['precision','RF'] = precision_score(y_pred = predict_smote_rf, y_true = Y_val, pos_label='No')\n",
    "metrics.loc['accuracy','RF'] = accuracy_score(y_pred = predict_smote_rf, y_true = Y_val)\n",
    "metrics.loc['recall','RF'] = recall_score(y_pred = predict_smote_rf, y_true = Y_val, pos_label='No')"
   ]
  },
  {
   "cell_type": "code",
   "execution_count": 165,
   "metadata": {},
   "outputs": [
    {
     "name": "stderr",
     "output_type": "stream",
     "text": [
      "C:\\Users\\tiwar\\anaconda3\\lib\\site-packages\\sklearn\\preprocessing\\_label.py:98: DataConversionWarning: A column-vector y was passed when a 1d array was expected. Please change the shape of y to (n_samples, ), for example using ravel().\n",
      "  y = column_or_1d(y, warn=True)\n",
      "C:\\Users\\tiwar\\anaconda3\\lib\\site-packages\\sklearn\\preprocessing\\_label.py:133: DataConversionWarning: A column-vector y was passed when a 1d array was expected. Please change the shape of y to (n_samples, ), for example using ravel().\n",
      "  y = column_or_1d(y, warn=True)\n"
     ]
    },
    {
     "data": {
      "text/plain": [
       "XGBClassifier()"
      ]
     },
     "execution_count": 165,
     "metadata": {},
     "output_type": "execute_result"
    }
   ],
   "source": [
    "from xgboost import XGBClassifier\n",
    "clf_xgb = XGBClassifier()\n",
    "clf_xgb.fit(X_train_smote, Y_train_smote)"
   ]
  },
  {
   "cell_type": "code",
   "execution_count": 166,
   "metadata": {},
   "outputs": [
    {
     "data": {
      "text/plain": [
       "No     0.855812\n",
       "Yes    0.144188\n",
       "dtype: float64"
      ]
     },
     "execution_count": 166,
     "metadata": {},
     "output_type": "execute_result"
    }
   ],
   "source": [
    "predict_xgb = clf_xgb.predict(X_val)\n",
    "df_smote_xgb = pd.DataFrame(predict_xgb)\n",
    "df_smote_xgb.value_counts(normalize=True)"
   ]
  },
  {
   "cell_type": "code",
   "execution_count": 167,
   "metadata": {},
   "outputs": [
    {
     "name": "stdout",
     "output_type": "stream",
     "text": [
      "The accuracy of Random Forest model is: 0.8551635497488386\n",
      "[[72464 12169]\n",
      " [  114    59]]\n",
      "              precision    recall  f1-score   support\n",
      "\n",
      "          No       1.00      0.86      0.92     84633\n",
      "         Yes       0.00      0.34      0.01       173\n",
      "\n",
      "    accuracy                           0.86     84806\n",
      "   macro avg       0.50      0.60      0.47     84806\n",
      "weighted avg       1.00      0.86      0.92     84806\n",
      "\n"
     ]
    }
   ],
   "source": [
    "acc = score(Y_val,predict_xgb)\n",
    "print(\"The accuracy of Random Forest model is:\", acc)\n",
    "matrix = confusion_matrix(Y_val, predict_xgb)\n",
    "print(matrix)\n",
    "report = classification_report(Y_val, predict_xgb)\n",
    "print(report)"
   ]
  },
  {
   "cell_type": "code",
   "execution_count": 168,
   "metadata": {},
   "outputs": [],
   "source": [
    "metrics.loc['precision','XGB'] = precision_score(y_pred = predict_xgb, y_true = Y_val, pos_label='No')\n",
    "metrics.loc['accuracy','XGB'] = accuracy_score(y_pred = predict_xgb, y_true = Y_val)\n",
    "metrics.loc['recall','XGB'] = recall_score(y_pred = predict_xgb, y_true = Y_val, pos_label='No')"
   ]
  },
  {
   "cell_type": "code",
   "execution_count": 169,
   "metadata": {},
   "outputs": [
    {
     "data": {
      "text/html": [
       "<div>\n",
       "<style scoped>\n",
       "    .dataframe tbody tr th:only-of-type {\n",
       "        vertical-align: middle;\n",
       "    }\n",
       "\n",
       "    .dataframe tbody tr th {\n",
       "        vertical-align: top;\n",
       "    }\n",
       "\n",
       "    .dataframe thead th {\n",
       "        text-align: right;\n",
       "    }\n",
       "</style>\n",
       "<table border=\"1\" class=\"dataframe\">\n",
       "  <thead>\n",
       "    <tr style=\"text-align: right;\">\n",
       "      <th></th>\n",
       "      <th>LogisticReg</th>\n",
       "      <th>DecsiontreeG</th>\n",
       "      <th>DecisionTreeE</th>\n",
       "      <th>RF</th>\n",
       "      <th>XGB</th>\n",
       "      <th>Logistic_Reg</th>\n",
       "      <th>DecsiontreeE</th>\n",
       "    </tr>\n",
       "  </thead>\n",
       "  <tbody>\n",
       "    <tr>\n",
       "      <th>accuracy</th>\n",
       "      <td>NaN</td>\n",
       "      <td>99.554277</td>\n",
       "      <td>NaN</td>\n",
       "      <td>99.50829</td>\n",
       "      <td>85.516355</td>\n",
       "      <td>66.509445</td>\n",
       "      <td>99.584935</td>\n",
       "    </tr>\n",
       "    <tr>\n",
       "      <th>precision</th>\n",
       "      <td>NaN</td>\n",
       "      <td>99.797865</td>\n",
       "      <td>NaN</td>\n",
       "      <td>99.79895</td>\n",
       "      <td>99.842928</td>\n",
       "      <td>99.907695</td>\n",
       "      <td>99.800281</td>\n",
       "    </tr>\n",
       "    <tr>\n",
       "      <th>recall</th>\n",
       "      <td>NaN</td>\n",
       "      <td>99.755415</td>\n",
       "      <td>NaN</td>\n",
       "      <td>99.708152</td>\n",
       "      <td>85.621448</td>\n",
       "      <td>66.502428</td>\n",
       "      <td>99.783772</td>\n",
       "    </tr>\n",
       "  </tbody>\n",
       "</table>\n",
       "</div>"
      ],
      "text/plain": [
       "          LogisticReg DecsiontreeG DecisionTreeE         RF        XGB  \\\n",
       "accuracy          NaN    99.554277           NaN   99.50829  85.516355   \n",
       "precision         NaN    99.797865           NaN   99.79895  99.842928   \n",
       "recall            NaN    99.755415           NaN  99.708152  85.621448   \n",
       "\n",
       "           Logistic_Reg  DecsiontreeE  \n",
       "accuracy      66.509445     99.584935  \n",
       "precision     99.907695     99.800281  \n",
       "recall        66.502428     99.783772  "
      ]
     },
     "execution_count": 169,
     "metadata": {},
     "output_type": "execute_result"
    }
   ],
   "source": [
    "100*metrics"
   ]
  },
  {
   "cell_type": "code",
   "execution_count": 170,
   "metadata": {},
   "outputs": [
    {
     "data": {
      "image/png": "[encoded data removed]",
      "text/plain": [
       "<Figure size 576x504 with 1 Axes>"
      ]
     },
     "metadata": {
      "needs_background": "light"
     },
     "output_type": "display_data"
    }
   ],
   "source": [
    "fig, ax = plt.subplots(figsize = (8,7))\n",
    "metrics.plot(kind = 'barh', ax= ax)\n",
    "ax.grid;"
   ]
  },
  {
   "cell_type": "markdown",
   "metadata": {},
   "source": [
    "# Test Dateset"
   ]
  },
  {
   "cell_type": "code",
   "execution_count": 224,
   "metadata": {},
   "outputs": [
    {
     "data": {
      "text/html": [
       "<div>\n",
       "<style scoped>\n",
       "    .dataframe tbody tr th:only-of-type {\n",
       "        vertical-align: middle;\n",
       "    }\n",
       "\n",
       "    .dataframe tbody tr th {\n",
       "        vertical-align: top;\n",
       "    }\n",
       "\n",
       "    .dataframe thead th {\n",
       "        text-align: right;\n",
       "    }\n",
       "</style>\n",
       "<table border=\"1\" class=\"dataframe\">\n",
       "  <thead>\n",
       "    <tr style=\"text-align: right;\">\n",
       "      <th></th>\n",
       "      <th>Loan_ID</th>\n",
       "      <th>Client_ID</th>\n",
       "      <th>Loanee_Gender</th>\n",
       "      <th>Loanee_Annual_Income</th>\n",
       "      <th>Loanee_Education</th>\n",
       "      <th>Loanee_Occupation</th>\n",
       "      <th>Loanee_Marital_Status</th>\n",
       "      <th>Credit_Criteria</th>\n",
       "      <th>Loanee_Third_Party_Credit_Rating</th>\n",
       "      <th>Loan_Type</th>\n",
       "      <th>Loan_Amount</th>\n",
       "      <th>Loan_Amount_Category</th>\n",
       "      <th>Credit_line</th>\n",
       "      <th>Past_year_overdue</th>\n",
       "      <th>EMI_Payment_Mode</th>\n",
       "      <th>Bank_Division</th>\n",
       "      <th>EMI_Amount</th>\n",
       "      <th>Loan_Application_Date</th>\n",
       "    </tr>\n",
       "  </thead>\n",
       "  <tbody>\n",
       "    <tr>\n",
       "      <th>0</th>\n",
       "      <td>329120</td>\n",
       "      <td>110551</td>\n",
       "      <td>M</td>\n",
       "      <td>400000.0</td>\n",
       "      <td>Graduate</td>\n",
       "      <td>SALARIED</td>\n",
       "      <td>M</td>\n",
       "      <td>Yes</td>\n",
       "      <td>Green</td>\n",
       "      <td>A</td>\n",
       "      <td>1500000</td>\n",
       "      <td>&lt;50L</td>\n",
       "      <td>10</td>\n",
       "      <td>6</td>\n",
       "      <td>M2</td>\n",
       "      <td>X4</td>\n",
       "      <td>14874</td>\n",
       "      <td>06/08/2005</td>\n",
       "    </tr>\n",
       "    <tr>\n",
       "      <th>1</th>\n",
       "      <td>329121</td>\n",
       "      <td>19105</td>\n",
       "      <td>M</td>\n",
       "      <td>600000.0</td>\n",
       "      <td>Graduate</td>\n",
       "      <td>SALARIED</td>\n",
       "      <td>S</td>\n",
       "      <td>No</td>\n",
       "      <td>Green</td>\n",
       "      <td>A</td>\n",
       "      <td>1500000</td>\n",
       "      <td>&lt;50L</td>\n",
       "      <td>29</td>\n",
       "      <td>25</td>\n",
       "      <td>M!</td>\n",
       "      <td>X3</td>\n",
       "      <td>15816</td>\n",
       "      <td>27/06/2005</td>\n",
       "    </tr>\n",
       "    <tr>\n",
       "      <th>2</th>\n",
       "      <td>329122</td>\n",
       "      <td>90521</td>\n",
       "      <td>M</td>\n",
       "      <td>414000.0</td>\n",
       "      <td>Post Grad or Higher</td>\n",
       "      <td>SALARIED</td>\n",
       "      <td>S</td>\n",
       "      <td>Yes</td>\n",
       "      <td>Green</td>\n",
       "      <td>A</td>\n",
       "      <td>5000000</td>\n",
       "      <td>&gt;=50</td>\n",
       "      <td>27</td>\n",
       "      <td>23</td>\n",
       "      <td>M3</td>\n",
       "      <td>X3</td>\n",
       "      <td>7710</td>\n",
       "      <td>21/06/2006</td>\n",
       "    </tr>\n",
       "    <tr>\n",
       "      <th>3</th>\n",
       "      <td>329123</td>\n",
       "      <td>25177</td>\n",
       "      <td>M</td>\n",
       "      <td>1500000.0</td>\n",
       "      <td>Post Grad or Higher</td>\n",
       "      <td>SALARIED</td>\n",
       "      <td>M</td>\n",
       "      <td>Yes</td>\n",
       "      <td>Red</td>\n",
       "      <td>A</td>\n",
       "      <td>10000000</td>\n",
       "      <td>&gt;=50</td>\n",
       "      <td>28</td>\n",
       "      <td>24</td>\n",
       "      <td>M2</td>\n",
       "      <td>X5</td>\n",
       "      <td>13259</td>\n",
       "      <td>24/07/2005</td>\n",
       "    </tr>\n",
       "    <tr>\n",
       "      <th>4</th>\n",
       "      <td>329124</td>\n",
       "      <td>127806</td>\n",
       "      <td>M</td>\n",
       "      <td>600000.0</td>\n",
       "      <td>Post Grad or Higher</td>\n",
       "      <td>SALARIED</td>\n",
       "      <td>M</td>\n",
       "      <td>Yes</td>\n",
       "      <td>Red</td>\n",
       "      <td>A</td>\n",
       "      <td>5000000</td>\n",
       "      <td>&gt;=50</td>\n",
       "      <td>20</td>\n",
       "      <td>16</td>\n",
       "      <td>M2</td>\n",
       "      <td>X3</td>\n",
       "      <td>9170</td>\n",
       "      <td>11/09/2005</td>\n",
       "    </tr>\n",
       "  </tbody>\n",
       "</table>\n",
       "</div>"
      ],
      "text/plain": [
       "   Loan_ID  Client_ID Loanee_Gender  Loanee_Annual_Income  \\\n",
       "0   329120     110551             M              400000.0   \n",
       "1   329121      19105             M              600000.0   \n",
       "2   329122      90521             M              414000.0   \n",
       "3   329123      25177             M             1500000.0   \n",
       "4   329124     127806             M              600000.0   \n",
       "\n",
       "      Loanee_Education Loanee_Occupation Loanee_Marital_Status  \\\n",
       "0             Graduate          SALARIED                     M   \n",
       "1             Graduate          SALARIED                     S   \n",
       "2  Post Grad or Higher          SALARIED                     S   \n",
       "3  Post Grad or Higher          SALARIED                     M   \n",
       "4  Post Grad or Higher          SALARIED                     M   \n",
       "\n",
       "  Credit_Criteria Loanee_Third_Party_Credit_Rating Loan_Type  Loan_Amount  \\\n",
       "0             Yes                            Green         A      1500000   \n",
       "1              No                            Green         A      1500000   \n",
       "2             Yes                            Green         A      5000000   \n",
       "3             Yes                              Red         A     10000000   \n",
       "4             Yes                              Red         A      5000000   \n",
       "\n",
       "  Loan_Amount_Category  Credit_line  Past_year_overdue EMI_Payment_Mode  \\\n",
       "0                 <50L           10                  6               M2   \n",
       "1                 <50L           29                 25               M!   \n",
       "2                 >=50           27                 23               M3   \n",
       "3                 >=50           28                 24               M2   \n",
       "4                 >=50           20                 16               M2   \n",
       "\n",
       "  Bank_Division  EMI_Amount Loan_Application_Date  \n",
       "0            X4       14874            06/08/2005  \n",
       "1            X3       15816            27/06/2005  \n",
       "2            X3        7710            21/06/2006  \n",
       "3            X5       13259            24/07/2005  \n",
       "4            X3        9170            11/09/2005  "
      ]
     },
     "execution_count": 224,
     "metadata": {},
     "output_type": "execute_result"
    }
   ],
   "source": [
    "test1 = pd.read_csv('test.csv')\n",
    "test1.head()"
   ]
  },
  {
   "cell_type": "code",
   "execution_count": 225,
   "metadata": {},
   "outputs": [
    {
     "name": "stdout",
     "output_type": "stream",
     "text": [
      "<class 'pandas.core.frame.DataFrame'>\n",
      "RangeIndex: 398564 entries, 0 to 398563\n",
      "Data columns (total 18 columns):\n",
      " #   Column                            Non-Null Count   Dtype  \n",
      "---  ------                            --------------   -----  \n",
      " 0   Loan_ID                           398564 non-null  int64  \n",
      " 1   Client_ID                         398564 non-null  int64  \n",
      " 2   Loanee_Gender                     398561 non-null  object \n",
      " 3   Loanee_Annual_Income              398564 non-null  float64\n",
      " 4   Loanee_Education                  398564 non-null  object \n",
      " 5   Loanee_Occupation                 364584 non-null  object \n",
      " 6   Loanee_Marital_Status             398564 non-null  object \n",
      " 7   Credit_Criteria                   398564 non-null  object \n",
      " 8   Loanee_Third_Party_Credit_Rating  398564 non-null  object \n",
      " 9   Loan_Type                         398564 non-null  object \n",
      " 10  Loan_Amount                       398564 non-null  int64  \n",
      " 11  Loan_Amount_Category              398564 non-null  object \n",
      " 12  Credit_line                       398564 non-null  int64  \n",
      " 13  Past_year_overdue                 398564 non-null  int64  \n",
      " 14  EMI_Payment_Mode                  398564 non-null  object \n",
      " 15  Bank_Division                     398564 non-null  object \n",
      " 16  EMI_Amount                        398564 non-null  int64  \n",
      " 17  Loan_Application_Date             398564 non-null  object \n",
      "dtypes: float64(1), int64(6), object(11)\n",
      "memory usage: 54.7+ MB\n"
     ]
    }
   ],
   "source": [
    "test1.info()"
   ]
  },
  {
   "cell_type": "code",
   "execution_count": 226,
   "metadata": {},
   "outputs": [
    {
     "data": {
      "text/plain": [
       "(398564, 18)"
      ]
     },
     "execution_count": 226,
     "metadata": {},
     "output_type": "execute_result"
    }
   ],
   "source": [
    "test1.shape"
   ]
  },
  {
   "cell_type": "code",
   "execution_count": 227,
   "metadata": {},
   "outputs": [
    {
     "data": {
      "text/plain": [
       "Loan_ID                                 0\n",
       "Client_ID                               0\n",
       "Loanee_Gender                           3\n",
       "Loanee_Annual_Income                    0\n",
       "Loanee_Education                        0\n",
       "Loanee_Occupation                   33980\n",
       "Loanee_Marital_Status                   0\n",
       "Credit_Criteria                         0\n",
       "Loanee_Third_Party_Credit_Rating        0\n",
       "Loan_Type                               0\n",
       "Loan_Amount                             0\n",
       "Loan_Amount_Category                    0\n",
       "Credit_line                             0\n",
       "Past_year_overdue                       0\n",
       "EMI_Payment_Mode                        0\n",
       "Bank_Division                           0\n",
       "EMI_Amount                              0\n",
       "Loan_Application_Date                   0\n",
       "dtype: int64"
      ]
     },
     "execution_count": 227,
     "metadata": {},
     "output_type": "execute_result"
    }
   ],
   "source": [
    "test1.isnull().sum()"
   ]
  },
  {
   "cell_type": "code",
   "execution_count": 228,
   "metadata": {},
   "outputs": [
    {
     "data": {
      "text/plain": [
       "(398564, 18)"
      ]
     },
     "execution_count": 228,
     "metadata": {},
     "output_type": "execute_result"
    }
   ],
   "source": [
    "test1.shape"
   ]
  },
  {
   "cell_type": "code",
   "execution_count": 229,
   "metadata": {},
   "outputs": [],
   "source": [
    "test1['Loanee_Occupation'].replace({np.nan:'Others'},inplace=True)"
   ]
  },
  {
   "cell_type": "code",
   "execution_count": 230,
   "metadata": {},
   "outputs": [
    {
     "data": {
      "text/plain": [
       "(398564, 18)"
      ]
     },
     "execution_count": 230,
     "metadata": {},
     "output_type": "execute_result"
    }
   ],
   "source": [
    "test1.shape"
   ]
  },
  {
   "cell_type": "code",
   "execution_count": 231,
   "metadata": {},
   "outputs": [
    {
     "name": "stderr",
     "output_type": "stream",
     "text": [
      "C:\\Users\\tiwar\\anaconda3\\lib\\site-packages\\seaborn\\_decorators.py:36: FutureWarning: Pass the following variable as a keyword arg: x. From version 0.12, the only valid positional argument will be `data`, and passing other arguments without an explicit keyword will result in an error or misinterpretation.\n",
      "  warnings.warn(\n"
     ]
    },
    {
     "data": {
      "text/plain": [
       "<AxesSubplot:xlabel='Loanee_Annual_Income'>"
      ]
     },
     "execution_count": 231,
     "metadata": {},
     "output_type": "execute_result"
    },
    {
     "data": {
      "image/png": "[encoded data removed]",
      "text/plain": [
       "<Figure size 432x288 with 1 Axes>"
      ]
     },
     "metadata": {
      "needs_background": "light"
     },
     "output_type": "display_data"
    }
   ],
   "source": [
    "sns.boxplot(test1['Loanee_Annual_Income'])"
   ]
  },
  {
   "cell_type": "code",
   "execution_count": 232,
   "metadata": {},
   "outputs": [
    {
     "data": {
      "text/plain": [
       "(398564, 18)"
      ]
     },
     "execution_count": 232,
     "metadata": {},
     "output_type": "execute_result"
    }
   ],
   "source": [
    "test1.shape"
   ]
  },
  {
   "cell_type": "code",
   "execution_count": 233,
   "metadata": {},
   "outputs": [
    {
     "name": "stderr",
     "output_type": "stream",
     "text": [
      "C:\\Users\\tiwar\\anaconda3\\lib\\site-packages\\seaborn\\_decorators.py:36: FutureWarning: Pass the following variable as a keyword arg: x. From version 0.12, the only valid positional argument will be `data`, and passing other arguments without an explicit keyword will result in an error or misinterpretation.\n",
      "  warnings.warn(\n"
     ]
    },
    {
     "data": {
      "text/plain": [
       "<AxesSubplot:xlabel='EMI_Amount'>"
      ]
     },
     "execution_count": 233,
     "metadata": {},
     "output_type": "execute_result"
    },
    {
     "data": {
      "image/png": "[encoded data removed]",
      "text/plain": [
       "<Figure size 432x288 with 1 Axes>"
      ]
     },
     "metadata": {
      "needs_background": "light"
     },
     "output_type": "display_data"
    }
   ],
   "source": [
    "sns.boxplot(test['EMI_Amount'])"
   ]
  },
  {
   "cell_type": "code",
   "execution_count": 234,
   "metadata": {},
   "outputs": [
    {
     "data": {
      "text/plain": [
       "(398564, 18)"
      ]
     },
     "execution_count": 234,
     "metadata": {},
     "output_type": "execute_result"
    }
   ],
   "source": [
    "test1.shape"
   ]
  },
  {
   "cell_type": "code",
   "execution_count": 235,
   "metadata": {},
   "outputs": [
    {
     "name": "stderr",
     "output_type": "stream",
     "text": [
      "C:\\Users\\tiwar\\anaconda3\\lib\\site-packages\\seaborn\\_decorators.py:36: FutureWarning: Pass the following variable as a keyword arg: x. From version 0.12, the only valid positional argument will be `data`, and passing other arguments without an explicit keyword will result in an error or misinterpretation.\n",
      "  warnings.warn(\n"
     ]
    },
    {
     "data": {
      "text/plain": [
       "<AxesSubplot:xlabel='Loan_Amount'>"
      ]
     },
     "execution_count": 235,
     "metadata": {},
     "output_type": "execute_result"
    },
    {
     "data": {
      "image/png": "[encoded data removed]",
      "text/plain": [
       "<Figure size 432x288 with 1 Axes>"
      ]
     },
     "metadata": {
      "needs_background": "light"
     },
     "output_type": "display_data"
    }
   ],
   "source": [
    "sns.boxplot(test1['Loan_Amount'])"
   ]
  },
  {
   "cell_type": "code",
   "execution_count": 236,
   "metadata": {},
   "outputs": [
    {
     "name": "stderr",
     "output_type": "stream",
     "text": [
      "C:\\Users\\tiwar\\anaconda3\\lib\\site-packages\\seaborn\\_decorators.py:36: FutureWarning: Pass the following variable as a keyword arg: x. From version 0.12, the only valid positional argument will be `data`, and passing other arguments without an explicit keyword will result in an error or misinterpretation.\n",
      "  warnings.warn(\n"
     ]
    },
    {
     "data": {
      "text/plain": [
       "<AxesSubplot:xlabel='Credit_line'>"
      ]
     },
     "execution_count": 236,
     "metadata": {},
     "output_type": "execute_result"
    },
    {
     "data": {
      "image/png": "[encoded data removed]",
      "text/plain": [
       "<Figure size 432x288 with 1 Axes>"
      ]
     },
     "metadata": {
      "needs_background": "light"
     },
     "output_type": "display_data"
    }
   ],
   "source": [
    "sns.boxplot(test1['Credit_line'])"
   ]
  },
  {
   "cell_type": "code",
   "execution_count": 237,
   "metadata": {},
   "outputs": [
    {
     "name": "stderr",
     "output_type": "stream",
     "text": [
      "C:\\Users\\tiwar\\anaconda3\\lib\\site-packages\\seaborn\\_decorators.py:36: FutureWarning: Pass the following variable as a keyword arg: x. From version 0.12, the only valid positional argument will be `data`, and passing other arguments without an explicit keyword will result in an error or misinterpretation.\n",
      "  warnings.warn(\n"
     ]
    },
    {
     "data": {
      "text/plain": [
       "<AxesSubplot:xlabel='Past_year_overdue'>"
      ]
     },
     "execution_count": 237,
     "metadata": {},
     "output_type": "execute_result"
    },
    {
     "data": {
      "image/png": "[encoded data removed]",
      "text/plain": [
       "<Figure size 432x288 with 1 Axes>"
      ]
     },
     "metadata": {
      "needs_background": "light"
     },
     "output_type": "display_data"
    }
   ],
   "source": [
    "sns.boxplot(test1['Past_year_overdue'])"
   ]
  },
  {
   "cell_type": "code",
   "execution_count": 238,
   "metadata": {},
   "outputs": [
    {
     "data": {
      "text/plain": [
       "(398564, 18)"
      ]
     },
     "execution_count": 238,
     "metadata": {},
     "output_type": "execute_result"
    }
   ],
   "source": [
    "test1.shape"
   ]
  },
  {
   "cell_type": "code",
   "execution_count": 240,
   "metadata": {},
   "outputs": [
    {
     "data": {
      "text/html": [
       "<div>\n",
       "<style scoped>\n",
       "    .dataframe tbody tr th:only-of-type {\n",
       "        vertical-align: middle;\n",
       "    }\n",
       "\n",
       "    .dataframe tbody tr th {\n",
       "        vertical-align: top;\n",
       "    }\n",
       "\n",
       "    .dataframe thead th {\n",
       "        text-align: right;\n",
       "    }\n",
       "</style>\n",
       "<table border=\"1\" class=\"dataframe\">\n",
       "  <thead>\n",
       "    <tr style=\"text-align: right;\">\n",
       "      <th></th>\n",
       "      <th>Loan_ID</th>\n",
       "      <th>Client_ID</th>\n",
       "      <th>Loanee_Gender</th>\n",
       "      <th>Loanee_Annual_Income</th>\n",
       "      <th>Loanee_Education</th>\n",
       "      <th>Loanee_Occupation</th>\n",
       "      <th>Loanee_Marital_Status</th>\n",
       "      <th>Credit_Criteria</th>\n",
       "      <th>Loanee_Third_Party_Credit_Rating</th>\n",
       "      <th>Loan_Type</th>\n",
       "      <th>Loan_Amount</th>\n",
       "      <th>Loan_Amount_Category</th>\n",
       "      <th>Credit_line</th>\n",
       "      <th>Past_year_overdue</th>\n",
       "      <th>EMI_Payment_Mode</th>\n",
       "      <th>Bank_Division</th>\n",
       "      <th>EMI_Amount</th>\n",
       "      <th>Loan_Application_Date</th>\n",
       "    </tr>\n",
       "  </thead>\n",
       "  <tbody>\n",
       "    <tr>\n",
       "      <th>0</th>\n",
       "      <td>329120</td>\n",
       "      <td>110551</td>\n",
       "      <td>M</td>\n",
       "      <td>400000.0</td>\n",
       "      <td>Graduate</td>\n",
       "      <td>SALARIED</td>\n",
       "      <td>M</td>\n",
       "      <td>Yes</td>\n",
       "      <td>Green</td>\n",
       "      <td>A</td>\n",
       "      <td>1500000</td>\n",
       "      <td>&lt;50L</td>\n",
       "      <td>10</td>\n",
       "      <td>6</td>\n",
       "      <td>M2</td>\n",
       "      <td>X4</td>\n",
       "      <td>14874</td>\n",
       "      <td>06/08/2005</td>\n",
       "    </tr>\n",
       "    <tr>\n",
       "      <th>1</th>\n",
       "      <td>329121</td>\n",
       "      <td>19105</td>\n",
       "      <td>M</td>\n",
       "      <td>600000.0</td>\n",
       "      <td>Graduate</td>\n",
       "      <td>SALARIED</td>\n",
       "      <td>S</td>\n",
       "      <td>No</td>\n",
       "      <td>Green</td>\n",
       "      <td>A</td>\n",
       "      <td>1500000</td>\n",
       "      <td>&lt;50L</td>\n",
       "      <td>29</td>\n",
       "      <td>25</td>\n",
       "      <td>M!</td>\n",
       "      <td>X3</td>\n",
       "      <td>15816</td>\n",
       "      <td>27/06/2005</td>\n",
       "    </tr>\n",
       "    <tr>\n",
       "      <th>2</th>\n",
       "      <td>329122</td>\n",
       "      <td>90521</td>\n",
       "      <td>M</td>\n",
       "      <td>414000.0</td>\n",
       "      <td>Post Grad or Higher</td>\n",
       "      <td>SALARIED</td>\n",
       "      <td>S</td>\n",
       "      <td>Yes</td>\n",
       "      <td>Green</td>\n",
       "      <td>A</td>\n",
       "      <td>5000000</td>\n",
       "      <td>&gt;=50</td>\n",
       "      <td>27</td>\n",
       "      <td>23</td>\n",
       "      <td>M3</td>\n",
       "      <td>X3</td>\n",
       "      <td>7710</td>\n",
       "      <td>21/06/2006</td>\n",
       "    </tr>\n",
       "    <tr>\n",
       "      <th>3</th>\n",
       "      <td>329123</td>\n",
       "      <td>25177</td>\n",
       "      <td>M</td>\n",
       "      <td>1500000.0</td>\n",
       "      <td>Post Grad or Higher</td>\n",
       "      <td>SALARIED</td>\n",
       "      <td>M</td>\n",
       "      <td>Yes</td>\n",
       "      <td>Red</td>\n",
       "      <td>A</td>\n",
       "      <td>10000000</td>\n",
       "      <td>&gt;=50</td>\n",
       "      <td>28</td>\n",
       "      <td>24</td>\n",
       "      <td>M2</td>\n",
       "      <td>X5</td>\n",
       "      <td>13259</td>\n",
       "      <td>24/07/2005</td>\n",
       "    </tr>\n",
       "    <tr>\n",
       "      <th>4</th>\n",
       "      <td>329124</td>\n",
       "      <td>127806</td>\n",
       "      <td>M</td>\n",
       "      <td>600000.0</td>\n",
       "      <td>Post Grad or Higher</td>\n",
       "      <td>SALARIED</td>\n",
       "      <td>M</td>\n",
       "      <td>Yes</td>\n",
       "      <td>Red</td>\n",
       "      <td>A</td>\n",
       "      <td>5000000</td>\n",
       "      <td>&gt;=50</td>\n",
       "      <td>20</td>\n",
       "      <td>16</td>\n",
       "      <td>M2</td>\n",
       "      <td>X3</td>\n",
       "      <td>9170</td>\n",
       "      <td>11/09/2005</td>\n",
       "    </tr>\n",
       "  </tbody>\n",
       "</table>\n",
       "</div>"
      ],
      "text/plain": [
       "   Loan_ID  Client_ID Loanee_Gender  Loanee_Annual_Income  \\\n",
       "0   329120     110551             M              400000.0   \n",
       "1   329121      19105             M              600000.0   \n",
       "2   329122      90521             M              414000.0   \n",
       "3   329123      25177             M             1500000.0   \n",
       "4   329124     127806             M              600000.0   \n",
       "\n",
       "      Loanee_Education Loanee_Occupation Loanee_Marital_Status  \\\n",
       "0             Graduate          SALARIED                     M   \n",
       "1             Graduate          SALARIED                     S   \n",
       "2  Post Grad or Higher          SALARIED                     S   \n",
       "3  Post Grad or Higher          SALARIED                     M   \n",
       "4  Post Grad or Higher          SALARIED                     M   \n",
       "\n",
       "  Credit_Criteria Loanee_Third_Party_Credit_Rating Loan_Type  Loan_Amount  \\\n",
       "0             Yes                            Green         A      1500000   \n",
       "1              No                            Green         A      1500000   \n",
       "2             Yes                            Green         A      5000000   \n",
       "3             Yes                              Red         A     10000000   \n",
       "4             Yes                              Red         A      5000000   \n",
       "\n",
       "  Loan_Amount_Category  Credit_line  Past_year_overdue EMI_Payment_Mode  \\\n",
       "0                 <50L           10                  6               M2   \n",
       "1                 <50L           29                 25               M!   \n",
       "2                 >=50           27                 23               M3   \n",
       "3                 >=50           28                 24               M2   \n",
       "4                 >=50           20                 16               M2   \n",
       "\n",
       "  Bank_Division  EMI_Amount Loan_Application_Date  \n",
       "0            X4       14874            06/08/2005  \n",
       "1            X3       15816            27/06/2005  \n",
       "2            X3        7710            21/06/2006  \n",
       "3            X5       13259            24/07/2005  \n",
       "4            X3        9170            11/09/2005  "
      ]
     },
     "execution_count": 240,
     "metadata": {},
     "output_type": "execute_result"
    }
   ],
   "source": [
    "test1.head()"
   ]
  },
  {
   "cell_type": "code",
   "execution_count": 241,
   "metadata": {},
   "outputs": [
    {
     "data": {
      "text/plain": [
       "(398564, 18)"
      ]
     },
     "execution_count": 241,
     "metadata": {},
     "output_type": "execute_result"
    }
   ],
   "source": [
    "test1.shape"
   ]
  },
  {
   "cell_type": "code",
   "execution_count": 242,
   "metadata": {},
   "outputs": [
    {
     "data": {
      "text/html": [
       "<div>\n",
       "<style scoped>\n",
       "    .dataframe tbody tr th:only-of-type {\n",
       "        vertical-align: middle;\n",
       "    }\n",
       "\n",
       "    .dataframe tbody tr th {\n",
       "        vertical-align: top;\n",
       "    }\n",
       "\n",
       "    .dataframe thead th {\n",
       "        text-align: right;\n",
       "    }\n",
       "</style>\n",
       "<table border=\"1\" class=\"dataframe\">\n",
       "  <thead>\n",
       "    <tr style=\"text-align: right;\">\n",
       "      <th></th>\n",
       "      <th>Loan_ID</th>\n",
       "      <th>Client_ID</th>\n",
       "      <th>Loanee_Gender</th>\n",
       "      <th>Loanee_Annual_Income</th>\n",
       "      <th>Loanee_Education</th>\n",
       "      <th>Loanee_Occupation</th>\n",
       "      <th>Loanee_Marital_Status</th>\n",
       "      <th>Credit_Criteria</th>\n",
       "      <th>Loanee_Third_Party_Credit_Rating</th>\n",
       "      <th>Loan_Type</th>\n",
       "      <th>Loan_Amount</th>\n",
       "      <th>Loan_Amount_Category</th>\n",
       "      <th>Credit_line</th>\n",
       "      <th>Past_year_overdue</th>\n",
       "      <th>EMI_Payment_Mode</th>\n",
       "      <th>Bank_Division</th>\n",
       "      <th>EMI_Amount</th>\n",
       "      <th>Loan_Application_Date</th>\n",
       "    </tr>\n",
       "  </thead>\n",
       "  <tbody>\n",
       "    <tr>\n",
       "      <th>0</th>\n",
       "      <td>329120</td>\n",
       "      <td>110551</td>\n",
       "      <td>1</td>\n",
       "      <td>400000.0</td>\n",
       "      <td>3</td>\n",
       "      <td>8</td>\n",
       "      <td>1</td>\n",
       "      <td>1</td>\n",
       "      <td>1</td>\n",
       "      <td>0</td>\n",
       "      <td>1500000</td>\n",
       "      <td>0</td>\n",
       "      <td>10</td>\n",
       "      <td>6</td>\n",
       "      <td>1</td>\n",
       "      <td>3</td>\n",
       "      <td>14874</td>\n",
       "      <td>06/08/2005</td>\n",
       "    </tr>\n",
       "    <tr>\n",
       "      <th>1</th>\n",
       "      <td>329121</td>\n",
       "      <td>19105</td>\n",
       "      <td>1</td>\n",
       "      <td>600000.0</td>\n",
       "      <td>3</td>\n",
       "      <td>8</td>\n",
       "      <td>2</td>\n",
       "      <td>0</td>\n",
       "      <td>1</td>\n",
       "      <td>0</td>\n",
       "      <td>1500000</td>\n",
       "      <td>0</td>\n",
       "      <td>29</td>\n",
       "      <td>25</td>\n",
       "      <td>0</td>\n",
       "      <td>2</td>\n",
       "      <td>15816</td>\n",
       "      <td>27/06/2005</td>\n",
       "    </tr>\n",
       "    <tr>\n",
       "      <th>2</th>\n",
       "      <td>329122</td>\n",
       "      <td>90521</td>\n",
       "      <td>1</td>\n",
       "      <td>414000.0</td>\n",
       "      <td>6</td>\n",
       "      <td>8</td>\n",
       "      <td>2</td>\n",
       "      <td>1</td>\n",
       "      <td>1</td>\n",
       "      <td>0</td>\n",
       "      <td>5000000</td>\n",
       "      <td>1</td>\n",
       "      <td>27</td>\n",
       "      <td>23</td>\n",
       "      <td>2</td>\n",
       "      <td>2</td>\n",
       "      <td>7710</td>\n",
       "      <td>21/06/2006</td>\n",
       "    </tr>\n",
       "    <tr>\n",
       "      <th>3</th>\n",
       "      <td>329123</td>\n",
       "      <td>25177</td>\n",
       "      <td>1</td>\n",
       "      <td>1500000.0</td>\n",
       "      <td>6</td>\n",
       "      <td>8</td>\n",
       "      <td>1</td>\n",
       "      <td>1</td>\n",
       "      <td>2</td>\n",
       "      <td>0</td>\n",
       "      <td>10000000</td>\n",
       "      <td>1</td>\n",
       "      <td>28</td>\n",
       "      <td>24</td>\n",
       "      <td>1</td>\n",
       "      <td>4</td>\n",
       "      <td>13259</td>\n",
       "      <td>24/07/2005</td>\n",
       "    </tr>\n",
       "    <tr>\n",
       "      <th>4</th>\n",
       "      <td>329124</td>\n",
       "      <td>127806</td>\n",
       "      <td>1</td>\n",
       "      <td>600000.0</td>\n",
       "      <td>6</td>\n",
       "      <td>8</td>\n",
       "      <td>1</td>\n",
       "      <td>1</td>\n",
       "      <td>2</td>\n",
       "      <td>0</td>\n",
       "      <td>5000000</td>\n",
       "      <td>1</td>\n",
       "      <td>20</td>\n",
       "      <td>16</td>\n",
       "      <td>1</td>\n",
       "      <td>2</td>\n",
       "      <td>9170</td>\n",
       "      <td>11/09/2005</td>\n",
       "    </tr>\n",
       "  </tbody>\n",
       "</table>\n",
       "</div>"
      ],
      "text/plain": [
       "   Loan_ID  Client_ID  Loanee_Gender  Loanee_Annual_Income  Loanee_Education  \\\n",
       "0   329120     110551              1              400000.0                 3   \n",
       "1   329121      19105              1              600000.0                 3   \n",
       "2   329122      90521              1              414000.0                 6   \n",
       "3   329123      25177              1             1500000.0                 6   \n",
       "4   329124     127806              1              600000.0                 6   \n",
       "\n",
       "   Loanee_Occupation  Loanee_Marital_Status  Credit_Criteria  \\\n",
       "0                  8                      1                1   \n",
       "1                  8                      2                0   \n",
       "2                  8                      2                1   \n",
       "3                  8                      1                1   \n",
       "4                  8                      1                1   \n",
       "\n",
       "   Loanee_Third_Party_Credit_Rating  Loan_Type  Loan_Amount  \\\n",
       "0                                 1          0      1500000   \n",
       "1                                 1          0      1500000   \n",
       "2                                 1          0      5000000   \n",
       "3                                 2          0     10000000   \n",
       "4                                 2          0      5000000   \n",
       "\n",
       "   Loan_Amount_Category  Credit_line  Past_year_overdue  EMI_Payment_Mode  \\\n",
       "0                     0           10                  6                 1   \n",
       "1                     0           29                 25                 0   \n",
       "2                     1           27                 23                 2   \n",
       "3                     1           28                 24                 1   \n",
       "4                     1           20                 16                 1   \n",
       "\n",
       "   Bank_Division  EMI_Amount Loan_Application_Date  \n",
       "0              3       14874            06/08/2005  \n",
       "1              2       15816            27/06/2005  \n",
       "2              2        7710            21/06/2006  \n",
       "3              4       13259            24/07/2005  \n",
       "4              2        9170            11/09/2005  "
      ]
     },
     "execution_count": 242,
     "metadata": {},
     "output_type": "execute_result"
    }
   ],
   "source": [
    "enc = LabelEncoder()\n",
    "test1.loc[:,['Loanee_Gender', 'Loanee_Education', 'Loanee_Occupation','Loanee_Marital_Status', 'Credit_Criteria', 'Loanee_Third_Party_Credit_Rating', 'Loan_Type', 'Loan_Amount_Category', 'EMI_Payment_Mode', 'Bank_Division']] = \\\n",
    "test1.loc[:,['Loanee_Gender', 'Loanee_Education', 'Loanee_Occupation','Loanee_Marital_Status', 'Credit_Criteria', 'Loanee_Third_Party_Credit_Rating', 'Loan_Type', 'Loan_Amount_Category', 'EMI_Payment_Mode', 'Bank_Division']].apply(enc.fit_transform)\n",
    "test1.head()"
   ]
  },
  {
   "cell_type": "code",
   "execution_count": 243,
   "metadata": {},
   "outputs": [],
   "source": [
    "test1 = test1.drop(['Loan_ID', 'Client_ID','Loan_Application_Date'],axis=1)"
   ]
  },
  {
   "cell_type": "code",
   "execution_count": 244,
   "metadata": {},
   "outputs": [
    {
     "data": {
      "text/plain": [
       "(398564, 15)"
      ]
     },
     "execution_count": 244,
     "metadata": {},
     "output_type": "execute_result"
    }
   ],
   "source": [
    "test1.shape"
   ]
  },
  {
   "cell_type": "code",
   "execution_count": 245,
   "metadata": {},
   "outputs": [
    {
     "name": "stderr",
     "output_type": "stream",
     "text": [
      "C:\\Users\\tiwar\\anaconda3\\lib\\site-packages\\sklearn\\preprocessing\\_label.py:98: DataConversionWarning: A column-vector y was passed when a 1d array was expected. Please change the shape of y to (n_samples, ), for example using ravel().\n",
      "  y = column_or_1d(y, warn=True)\n",
      "C:\\Users\\tiwar\\anaconda3\\lib\\site-packages\\sklearn\\preprocessing\\_label.py:133: DataConversionWarning: A column-vector y was passed when a 1d array was expected. Please change the shape of y to (n_samples, ), for example using ravel().\n",
      "  y = column_or_1d(y, warn=True)\n"
     ]
    },
    {
     "data": {
      "text/plain": [
       "XGBClassifier()"
      ]
     },
     "execution_count": 245,
     "metadata": {},
     "output_type": "execute_result"
    }
   ],
   "source": [
    "clf_xgb = XGBClassifier()\n",
    "clf_xgb.fit(X_train_smote, Y_train_smote)"
   ]
  },
  {
   "cell_type": "code",
   "execution_count": 246,
   "metadata": {},
   "outputs": [
    {
     "data": {
      "text/plain": [
       "No     0.862361\n",
       "Yes    0.137639\n",
       "dtype: float64"
      ]
     },
     "execution_count": 246,
     "metadata": {},
     "output_type": "execute_result"
    }
   ],
   "source": [
    "predict_xgb_final = clf_xgb.predict(test1)\n",
    "df_smote_xgb = pd.DataFrame(predict_xgb_final)\n",
    "df_smote_xgb.value_counts(normalize=True)"
   ]
  },
  {
   "cell_type": "code",
   "execution_count": 247,
   "metadata": {},
   "outputs": [
    {
     "data": {
      "text/html": [
       "<div>\n",
       "<style scoped>\n",
       "    .dataframe tbody tr th:only-of-type {\n",
       "        vertical-align: middle;\n",
       "    }\n",
       "\n",
       "    .dataframe tbody tr th {\n",
       "        vertical-align: top;\n",
       "    }\n",
       "\n",
       "    .dataframe thead th {\n",
       "        text-align: right;\n",
       "    }\n",
       "</style>\n",
       "<table border=\"1\" class=\"dataframe\">\n",
       "  <thead>\n",
       "    <tr style=\"text-align: right;\">\n",
       "      <th></th>\n",
       "      <th>0</th>\n",
       "    </tr>\n",
       "  </thead>\n",
       "  <tbody>\n",
       "    <tr>\n",
       "      <th>0</th>\n",
       "      <td>Yes</td>\n",
       "    </tr>\n",
       "    <tr>\n",
       "      <th>1</th>\n",
       "      <td>No</td>\n",
       "    </tr>\n",
       "    <tr>\n",
       "      <th>2</th>\n",
       "      <td>No</td>\n",
       "    </tr>\n",
       "    <tr>\n",
       "      <th>3</th>\n",
       "      <td>No</td>\n",
       "    </tr>\n",
       "    <tr>\n",
       "      <th>4</th>\n",
       "      <td>No</td>\n",
       "    </tr>\n",
       "    <tr>\n",
       "      <th>...</th>\n",
       "      <td>...</td>\n",
       "    </tr>\n",
       "    <tr>\n",
       "      <th>398559</th>\n",
       "      <td>Yes</td>\n",
       "    </tr>\n",
       "    <tr>\n",
       "      <th>398560</th>\n",
       "      <td>Yes</td>\n",
       "    </tr>\n",
       "    <tr>\n",
       "      <th>398561</th>\n",
       "      <td>No</td>\n",
       "    </tr>\n",
       "    <tr>\n",
       "      <th>398562</th>\n",
       "      <td>Yes</td>\n",
       "    </tr>\n",
       "    <tr>\n",
       "      <th>398563</th>\n",
       "      <td>Yes</td>\n",
       "    </tr>\n",
       "  </tbody>\n",
       "</table>\n",
       "<p>398564 rows × 1 columns</p>\n",
       "</div>"
      ],
      "text/plain": [
       "          0\n",
       "0       Yes\n",
       "1        No\n",
       "2        No\n",
       "3        No\n",
       "4        No\n",
       "...     ...\n",
       "398559  Yes\n",
       "398560  Yes\n",
       "398561   No\n",
       "398562  Yes\n",
       "398563  Yes\n",
       "\n",
       "[398564 rows x 1 columns]"
      ]
     },
     "execution_count": 247,
     "metadata": {},
     "output_type": "execute_result"
    }
   ],
   "source": [
    "df_smote_xgb"
   ]
  },
  {
   "cell_type": "code",
   "execution_count": 248,
   "metadata": {},
   "outputs": [],
   "source": [
    "df_smote_xgb.to_csv(\"results.csv\")"
   ]
  },
  {
   "cell_type": "code",
   "execution_count": 250,
   "metadata": {},
   "outputs": [],
   "source": [
    "df_smote_xgb.to_csv('D:/python programs/datasets/results1.csv')"
   ]
  },
  {
   "cell_type": "code",
   "execution_count": null,
   "metadata": {},
   "outputs": [],
   "source": []
  }
 ],
 "metadata": {
  "kernelspec": {
   "display_name": "Python 3 (ipykernel)",
   "language": "python",
   "name": "python3"
  },
  "language_info": {
   "codemirror_mode": {
    "name": "ipython",
    "version": 3
   },
   "file_extension": ".py",
   "mimetype": "text/x-python",
   "name": "python",
   "nbconvert_exporter": "python",
   "pygments_lexer": "ipython3",
   "version": "3.9.12"
  }
 },
 "nbformat": 4,
 "nbformat_minor": 4
}
