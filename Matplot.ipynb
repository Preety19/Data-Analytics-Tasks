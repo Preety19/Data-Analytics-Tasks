{
 "cells": [
  {
   "cell_type": "markdown",
   "metadata": {},
   "source": [
    "### Prepare data"
   ]
  },
  {
   "cell_type": "code",
   "execution_count": 4,
   "metadata": {},
   "outputs": [],
   "source": [
    "#1d data\n",
    "import numpy as np\n",
    "x = np.linspace(0, 10, 100)\n",
    "y = np.cos(x)\n",
    "z = np.sin(x)"
   ]
  },
  {
   "cell_type": "code",
   "execution_count": 5,
   "metadata": {},
   "outputs": [],
   "source": [
    " import matplotlib.pyplot as plt"
   ]
  },
  {
   "cell_type": "code",
   "execution_count": 6,
   "metadata": {},
   "outputs": [
    {
     "data": {
      "text/plain": [
       "<Figure size 432x288 with 0 Axes>"
      ]
     },
     "metadata": {},
     "output_type": "display_data"
    },
    {
     "data": {
      "text/plain": [
       "<Figure size 288x576 with 0 Axes>"
      ]
     },
     "metadata": {},
     "output_type": "display_data"
    }
   ],
   "source": [
    "fig = plt.figure()\n",
    "fig2 = plt.figure(figsize=plt.figaspect(2.0))"
   ]
  },
  {
   "cell_type": "code",
   "execution_count": 7,
   "metadata": {},
   "outputs": [
    {
     "name": "stderr",
     "output_type": "stream",
     "text": [
      "<ipython-input-7-83c641d28675>:1: MatplotlibDeprecationWarning: Calling add_axes() without argument is deprecated since 3.3 and will be removed two minor releases later. You may want to use add_subplot() instead.\n",
      "  fig.add_axes()\n"
     ]
    },
    {
     "data": {
      "image/png": "[encoded data removed]",
      "text/plain": [
       "<Figure size 432x288 with 4 Axes>"
      ]
     },
     "metadata": {
      "needs_background": "light"
     },
     "output_type": "display_data"
    },
    {
     "data": {
      "image/png": "[encoded data removed]",
      "text/plain": [
       "<Figure size 432x288 with 3 Axes>"
      ]
     },
     "metadata": {
      "needs_background": "light"
     },
     "output_type": "display_data"
    }
   ],
   "source": [
    "fig.add_axes()\n",
    "ax1 = fig.add_subplot(221) # row-col-num\n",
    "ax3 = fig.add_subplot(212)\n",
    "fig3, axes = plt.subplots(nrows=2,ncols=2)\n",
    "fig4, axes2 = plt.subplots(ncols=3)"
   ]
  },
  {
   "cell_type": "markdown",
   "metadata": {},
   "source": [
    "### Plotting routines"
   ]
  },
  {
   "cell_type": "raw",
   "metadata": {},
   "source": [
    "# 1d data\n",
    "lines = ax.plot(x,y)                                #Draw points with lines or markers connecting them\n",
    "ax.scatter(x,y)                                     #Draw unconnected points, scaled or colored\n",
    "axes[0,0].bar([1,2,3],[3,4,5])                      #Plot vertical rectangles (constant width)\n",
    "axes[1,0].barh([0.5,1,2.5],[0,1,2])                 #Plot horiontal rectangles (constant height)\n",
    "axes[1,1].axhline(0.45)                             #Draw a horizontal line across axes\n",
    "axes[0,1].axvline(0.65)                             #Draw a vertical line across axes\n",
    "ax.fill(x,y,color='blue')                           #Draw filled polygons\n",
    "ax.fill_between(x,y,color='yellow')                 #Fill between y-values and 0\n",
    "\n",
    "\n",
    "# 2d data\n",
    "fig, ax = plt.subplots()\n",
    "im = ax.imshow(img, Colormapped or RGB arrays cmap='gist_earth', interpolation='nearest',vmin=-2,vmax=2)"
   ]
  },
  {
   "cell_type": "markdown",
   "metadata": {},
   "source": [
    "### Customize plots"
   ]
  },
  {
   "cell_type": "raw",
   "metadata": {},
   "source": [
    "Colours\n",
    "plt.plot(x, x, x, x**2, x, x**3)\n",
    "ax.plot(x, y, alpha = 0.4)\n",
    "ax.plot(x, y, c='k')\n",
    "fig.colorbar(im, orientation='horizontal')\n",
    "im = ax.imshow(img, cmap='seismic')\n",
    "\n",
    "#Markers\n",
    "fig, ax = plt.subplots()\n",
    "ax.scatter(x,y,marker=\".\")\n",
    "ax.plot(x,y,marker=\"o\")\n",
    "\n"
   ]
  }
 ],
 "metadata": {
  "kernelspec": {
   "display_name": "Python 3",
   "language": "python",
   "name": "python3"
  },
  "language_info": {
   "codemirror_mode": {
    "name": "ipython",
    "version": 3
   },
   "file_extension": ".py",
   "mimetype": "text/x-python",
   "name": "python",
   "nbconvert_exporter": "python",
   "pygments_lexer": "ipython3",
   "version": "3.8.5"
  }
 },
 "nbformat": 4,
 "nbformat_minor": 4
}
